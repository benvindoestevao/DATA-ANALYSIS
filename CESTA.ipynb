{
 "cells": [
  {
   "cell_type": "code",
   "execution_count": null,
   "id": "4c8c854b-8f5c-4cd8-9083-343396432f8b",
   "metadata": {},
   "outputs": [],
   "source": []
  },
  {
   "cell_type": "markdown",
   "id": "5ceb9269-d617-474d-b87c-34c82dd4f2f6",
   "metadata": {},
   "source": [
    "# ANÁLISE EXPLORATÓRIA DO AUMENTO DOS PREÇOS DA CESTA BÁSICA EM ANGOLA ENTRE 2008-2020"
   ]
  },
  {
   "cell_type": "markdown",
   "id": "1c636d45-869e-4878-b5cd-70470ebccf0e",
   "metadata": {},
   "source": []
  },
  {
   "cell_type": "markdown",
   "id": "6462db05-47f3-45dd-ad13-60166f13cb84",
   "metadata": {},
   "source": [
    "Este projecto de Analise de Dados, destina-se a analisar a crescente dos preços dos produtos da cesta básica ao longo dos anos 2005-2018.\n",
    "Poderemos entender quais produtos sofreram maior aumento a nivel percentual, quais foram os mais produzidos e consumidos ao longo destes anos \n"
   ]
  },
  {
   "cell_type": "markdown",
   "id": "d27b20ec-a4bd-4c6c-a72b-f11685b473eb",
   "metadata": {},
   "source": [
    "# CARREGANDO O CSV"
   ]
  },
  {
   "cell_type": "code",
   "execution_count": 605,
   "id": "a25119d5-0784-4ddd-b789-d380996bbb92",
   "metadata": {},
   "outputs": [
    {
     "data": {
      "text/html": [
       "<div>\n",
       "<style scoped>\n",
       "    .dataframe tbody tr th:only-of-type {\n",
       "        vertical-align: middle;\n",
       "    }\n",
       "\n",
       "    .dataframe tbody tr th {\n",
       "        vertical-align: top;\n",
       "    }\n",
       "\n",
       "    .dataframe thead th {\n",
       "        text-align: right;\n",
       "    }\n",
       "</style>\n",
       "<table border=\"1\" class=\"dataframe\">\n",
       "  <thead>\n",
       "    <tr style=\"text-align: right;\">\n",
       "      <th></th>\n",
       "      <th>date</th>\n",
       "      <th>admin1</th>\n",
       "      <th>admin2</th>\n",
       "      <th>market</th>\n",
       "      <th>latitude</th>\n",
       "      <th>longitude</th>\n",
       "      <th>category</th>\n",
       "      <th>commodity</th>\n",
       "      <th>unit</th>\n",
       "      <th>priceflag</th>\n",
       "      <th>pricetype</th>\n",
       "      <th>currency</th>\n",
       "      <th>price</th>\n",
       "      <th>usdprice</th>\n",
       "    </tr>\n",
       "  </thead>\n",
       "  <tbody>\n",
       "    <tr>\n",
       "      <th>0</th>\n",
       "      <td>#date</td>\n",
       "      <td>#adm1+name</td>\n",
       "      <td>#adm2+name</td>\n",
       "      <td>#loc+market+name</td>\n",
       "      <td>#geo+lat</td>\n",
       "      <td>#geo+lon</td>\n",
       "      <td>#item+type</td>\n",
       "      <td>#item+name</td>\n",
       "      <td>#item+unit</td>\n",
       "      <td>#item+price+flag</td>\n",
       "      <td>#item+price+type</td>\n",
       "      <td>#currency</td>\n",
       "      <td>#value</td>\n",
       "      <td>#value+usd</td>\n",
       "    </tr>\n",
       "    <tr>\n",
       "      <th>1</th>\n",
       "      <td>2008-01-15</td>\n",
       "      <td>Luanda</td>\n",
       "      <td>Luanda</td>\n",
       "      <td>Luanda</td>\n",
       "      <td>-8.838</td>\n",
       "      <td>13.234</td>\n",
       "      <td>cereals and tubers</td>\n",
       "      <td>Bread</td>\n",
       "      <td>Unit</td>\n",
       "      <td>actual</td>\n",
       "      <td>Retail</td>\n",
       "      <td>AOA</td>\n",
       "      <td>35.2</td>\n",
       "      <td>0.4703</td>\n",
       "    </tr>\n",
       "    <tr>\n",
       "      <th>2</th>\n",
       "      <td>2008-01-15</td>\n",
       "      <td>Luanda</td>\n",
       "      <td>Luanda</td>\n",
       "      <td>Luanda</td>\n",
       "      <td>-8.838</td>\n",
       "      <td>13.234</td>\n",
       "      <td>cereals and tubers</td>\n",
       "      <td>Cassava flour</td>\n",
       "      <td>900 G</td>\n",
       "      <td>actual</td>\n",
       "      <td>Retail</td>\n",
       "      <td>AOA</td>\n",
       "      <td>139.03</td>\n",
       "      <td>1.8574</td>\n",
       "    </tr>\n",
       "    <tr>\n",
       "      <th>3</th>\n",
       "      <td>2008-01-15</td>\n",
       "      <td>Luanda</td>\n",
       "      <td>Luanda</td>\n",
       "      <td>Luanda</td>\n",
       "      <td>-8.838</td>\n",
       "      <td>13.234</td>\n",
       "      <td>cereals and tubers</td>\n",
       "      <td>Maize flour</td>\n",
       "      <td>900 G</td>\n",
       "      <td>actual</td>\n",
       "      <td>Retail</td>\n",
       "      <td>AOA</td>\n",
       "      <td>135.8</td>\n",
       "      <td>1.8143</td>\n",
       "    </tr>\n",
       "    <tr>\n",
       "      <th>4</th>\n",
       "      <td>2008-01-15</td>\n",
       "      <td>Luanda</td>\n",
       "      <td>Luanda</td>\n",
       "      <td>Luanda</td>\n",
       "      <td>-8.838</td>\n",
       "      <td>13.234</td>\n",
       "      <td>cereals and tubers</td>\n",
       "      <td>Rice (regular, milled)</td>\n",
       "      <td>900 G</td>\n",
       "      <td>actual</td>\n",
       "      <td>Retail</td>\n",
       "      <td>AOA</td>\n",
       "      <td>125.46</td>\n",
       "      <td>1.6762</td>\n",
       "    </tr>\n",
       "    <tr>\n",
       "      <th>5</th>\n",
       "      <td>2008-01-15</td>\n",
       "      <td>Luanda</td>\n",
       "      <td>Luanda</td>\n",
       "      <td>Luanda</td>\n",
       "      <td>-8.838</td>\n",
       "      <td>13.234</td>\n",
       "      <td>milk and dairy</td>\n",
       "      <td>Milk (powder)</td>\n",
       "      <td>50 Pounds</td>\n",
       "      <td>actual</td>\n",
       "      <td>Retail</td>\n",
       "      <td>AOA</td>\n",
       "      <td>1843.2</td>\n",
       "      <td>24.6253</td>\n",
       "    </tr>\n",
       "    <tr>\n",
       "      <th>6</th>\n",
       "      <td>2008-01-15</td>\n",
       "      <td>Luanda</td>\n",
       "      <td>Luanda</td>\n",
       "      <td>Luanda</td>\n",
       "      <td>-8.838</td>\n",
       "      <td>13.234</td>\n",
       "      <td>miscellaneous food</td>\n",
       "      <td>Sugar (white)</td>\n",
       "      <td>900 G</td>\n",
       "      <td>actual</td>\n",
       "      <td>Retail</td>\n",
       "      <td>AOA</td>\n",
       "      <td>117.42</td>\n",
       "      <td>1.5687</td>\n",
       "    </tr>\n",
       "    <tr>\n",
       "      <th>7</th>\n",
       "      <td>2008-01-15</td>\n",
       "      <td>Luanda</td>\n",
       "      <td>Luanda</td>\n",
       "      <td>Luanda</td>\n",
       "      <td>-8.838</td>\n",
       "      <td>13.234</td>\n",
       "      <td>oil and fats</td>\n",
       "      <td>Oil (palm)</td>\n",
       "      <td>L</td>\n",
       "      <td>actual</td>\n",
       "      <td>Retail</td>\n",
       "      <td>AOA</td>\n",
       "      <td>382.84</td>\n",
       "      <td>5.1148</td>\n",
       "    </tr>\n",
       "    <tr>\n",
       "      <th>8</th>\n",
       "      <td>2008-01-15</td>\n",
       "      <td>Luanda</td>\n",
       "      <td>Luanda</td>\n",
       "      <td>Luanda</td>\n",
       "      <td>-8.838</td>\n",
       "      <td>13.234</td>\n",
       "      <td>oil and fats</td>\n",
       "      <td>Oil (soybean)</td>\n",
       "      <td>L</td>\n",
       "      <td>actual</td>\n",
       "      <td>Retail</td>\n",
       "      <td>AOA</td>\n",
       "      <td>225.43</td>\n",
       "      <td>3.0118</td>\n",
       "    </tr>\n",
       "    <tr>\n",
       "      <th>9</th>\n",
       "      <td>2008-02-15</td>\n",
       "      <td>Luanda</td>\n",
       "      <td>Luanda</td>\n",
       "      <td>Luanda</td>\n",
       "      <td>-8.838</td>\n",
       "      <td>13.234</td>\n",
       "      <td>cereals and tubers</td>\n",
       "      <td>Bread</td>\n",
       "      <td>Unit</td>\n",
       "      <td>actual</td>\n",
       "      <td>Retail</td>\n",
       "      <td>AOA</td>\n",
       "      <td>35.8</td>\n",
       "      <td>0.4782</td>\n",
       "    </tr>\n",
       "  </tbody>\n",
       "</table>\n",
       "</div>"
      ],
      "text/plain": [
       "         date      admin1      admin2            market  latitude longitude  \\\n",
       "0       #date  #adm1+name  #adm2+name  #loc+market+name  #geo+lat  #geo+lon   \n",
       "1  2008-01-15      Luanda      Luanda            Luanda    -8.838    13.234   \n",
       "2  2008-01-15      Luanda      Luanda            Luanda    -8.838    13.234   \n",
       "3  2008-01-15      Luanda      Luanda            Luanda    -8.838    13.234   \n",
       "4  2008-01-15      Luanda      Luanda            Luanda    -8.838    13.234   \n",
       "5  2008-01-15      Luanda      Luanda            Luanda    -8.838    13.234   \n",
       "6  2008-01-15      Luanda      Luanda            Luanda    -8.838    13.234   \n",
       "7  2008-01-15      Luanda      Luanda            Luanda    -8.838    13.234   \n",
       "8  2008-01-15      Luanda      Luanda            Luanda    -8.838    13.234   \n",
       "9  2008-02-15      Luanda      Luanda            Luanda    -8.838    13.234   \n",
       "\n",
       "             category               commodity        unit         priceflag  \\\n",
       "0          #item+type              #item+name  #item+unit  #item+price+flag   \n",
       "1  cereals and tubers                   Bread        Unit            actual   \n",
       "2  cereals and tubers           Cassava flour       900 G            actual   \n",
       "3  cereals and tubers             Maize flour       900 G            actual   \n",
       "4  cereals and tubers  Rice (regular, milled)       900 G            actual   \n",
       "5      milk and dairy           Milk (powder)   50 Pounds            actual   \n",
       "6  miscellaneous food           Sugar (white)       900 G            actual   \n",
       "7        oil and fats              Oil (palm)           L            actual   \n",
       "8        oil and fats           Oil (soybean)           L            actual   \n",
       "9  cereals and tubers                   Bread        Unit            actual   \n",
       "\n",
       "          pricetype   currency   price    usdprice  \n",
       "0  #item+price+type  #currency  #value  #value+usd  \n",
       "1            Retail        AOA    35.2      0.4703  \n",
       "2            Retail        AOA  139.03      1.8574  \n",
       "3            Retail        AOA   135.8      1.8143  \n",
       "4            Retail        AOA  125.46      1.6762  \n",
       "5            Retail        AOA  1843.2     24.6253  \n",
       "6            Retail        AOA  117.42      1.5687  \n",
       "7            Retail        AOA  382.84      5.1148  \n",
       "8            Retail        AOA  225.43      3.0118  \n",
       "9            Retail        AOA    35.8      0.4782  "
      ]
     },
     "execution_count": 605,
     "metadata": {},
     "output_type": "execute_result"
    }
   ],
   "source": [
    "import pandas as pd\n",
    "import numpy as np\n",
    "import seaborn as sbn\n",
    "import matplotlib.pyplot as plt\n",
    "\n",
    "plt.style.use('ggplot')\n",
    "df = pd.read_csv (\"cestabasica.csv\")\n",
    "df.head(10)"
   ]
  },
  {
   "cell_type": "code",
   "execution_count": 234,
   "id": "3708d89b-dfa0-4d06-a683-e1676ae81bfb",
   "metadata": {},
   "outputs": [
    {
     "name": "stdout",
     "output_type": "stream",
     "text": [
      "<class 'pandas.core.frame.DataFrame'>\n",
      "RangeIndex: 1192 entries, 0 to 1191\n",
      "Data columns (total 14 columns):\n",
      " #   Column     Non-Null Count  Dtype \n",
      "---  ------     --------------  ----- \n",
      " 0   date       1192 non-null   object\n",
      " 1   admin1     1135 non-null   object\n",
      " 2   admin2     1135 non-null   object\n",
      " 3   market     1192 non-null   object\n",
      " 4   latitude   1135 non-null   object\n",
      " 5   longitude  1135 non-null   object\n",
      " 6   category   1192 non-null   object\n",
      " 7   commodity  1192 non-null   object\n",
      " 8   unit       1192 non-null   object\n",
      " 9   priceflag  1192 non-null   object\n",
      " 10  pricetype  1192 non-null   object\n",
      " 11  currency   1192 non-null   object\n",
      " 12  price      1192 non-null   object\n",
      " 13  usdprice   1192 non-null   object\n",
      "dtypes: object(14)\n",
      "memory usage: 130.5+ KB\n"
     ]
    }
   ],
   "source": [
    "df.info()"
   ]
  },
  {
   "cell_type": "markdown",
   "id": "921aeb0f-aef4-46ca-98a6-c744bdd14a83",
   "metadata": {},
   "source": [
    "# Criando uma cópia do CSV"
   ]
  },
  {
   "cell_type": "code",
   "execution_count": 573,
   "id": "a906f41f-d39e-4a7d-994d-73ae96ea45bd",
   "metadata": {},
   "outputs": [],
   "source": [
    "df1 = df.copy()"
   ]
  },
  {
   "cell_type": "code",
   "execution_count": 577,
   "id": "6d0754d3-dda6-4314-b207-18d8aca632c4",
   "metadata": {},
   "outputs": [],
   "source": [
    "df1 = df1.iloc[1:]"
   ]
  },
  {
   "cell_type": "code",
   "execution_count": 579,
   "id": "e58cf333-2a65-4f25-b6b1-2449ea897e5c",
   "metadata": {},
   "outputs": [
    {
     "data": {
      "text/html": [
       "<div>\n",
       "<style scoped>\n",
       "    .dataframe tbody tr th:only-of-type {\n",
       "        vertical-align: middle;\n",
       "    }\n",
       "\n",
       "    .dataframe tbody tr th {\n",
       "        vertical-align: top;\n",
       "    }\n",
       "\n",
       "    .dataframe thead th {\n",
       "        text-align: right;\n",
       "    }\n",
       "</style>\n",
       "<table border=\"1\" class=\"dataframe\">\n",
       "  <thead>\n",
       "    <tr style=\"text-align: right;\">\n",
       "      <th></th>\n",
       "      <th>date</th>\n",
       "      <th>admin1</th>\n",
       "      <th>admin2</th>\n",
       "      <th>market</th>\n",
       "      <th>latitude</th>\n",
       "      <th>longitude</th>\n",
       "      <th>category</th>\n",
       "      <th>commodity</th>\n",
       "      <th>unit</th>\n",
       "      <th>priceflag</th>\n",
       "      <th>pricetype</th>\n",
       "      <th>currency</th>\n",
       "      <th>price</th>\n",
       "      <th>usdprice</th>\n",
       "    </tr>\n",
       "  </thead>\n",
       "  <tbody>\n",
       "    <tr>\n",
       "      <th>1</th>\n",
       "      <td>2008-01-15</td>\n",
       "      <td>Luanda</td>\n",
       "      <td>Luanda</td>\n",
       "      <td>Luanda</td>\n",
       "      <td>-8.838</td>\n",
       "      <td>13.234</td>\n",
       "      <td>cereals and tubers</td>\n",
       "      <td>Bread</td>\n",
       "      <td>Unit</td>\n",
       "      <td>actual</td>\n",
       "      <td>Retail</td>\n",
       "      <td>AOA</td>\n",
       "      <td>35.2</td>\n",
       "      <td>0.4703</td>\n",
       "    </tr>\n",
       "    <tr>\n",
       "      <th>2</th>\n",
       "      <td>2008-01-15</td>\n",
       "      <td>Luanda</td>\n",
       "      <td>Luanda</td>\n",
       "      <td>Luanda</td>\n",
       "      <td>-8.838</td>\n",
       "      <td>13.234</td>\n",
       "      <td>cereals and tubers</td>\n",
       "      <td>Cassava flour</td>\n",
       "      <td>900 G</td>\n",
       "      <td>actual</td>\n",
       "      <td>Retail</td>\n",
       "      <td>AOA</td>\n",
       "      <td>139.03</td>\n",
       "      <td>1.8574</td>\n",
       "    </tr>\n",
       "    <tr>\n",
       "      <th>3</th>\n",
       "      <td>2008-01-15</td>\n",
       "      <td>Luanda</td>\n",
       "      <td>Luanda</td>\n",
       "      <td>Luanda</td>\n",
       "      <td>-8.838</td>\n",
       "      <td>13.234</td>\n",
       "      <td>cereals and tubers</td>\n",
       "      <td>Maize flour</td>\n",
       "      <td>900 G</td>\n",
       "      <td>actual</td>\n",
       "      <td>Retail</td>\n",
       "      <td>AOA</td>\n",
       "      <td>135.8</td>\n",
       "      <td>1.8143</td>\n",
       "    </tr>\n",
       "    <tr>\n",
       "      <th>4</th>\n",
       "      <td>2008-01-15</td>\n",
       "      <td>Luanda</td>\n",
       "      <td>Luanda</td>\n",
       "      <td>Luanda</td>\n",
       "      <td>-8.838</td>\n",
       "      <td>13.234</td>\n",
       "      <td>cereals and tubers</td>\n",
       "      <td>Rice (regular, milled)</td>\n",
       "      <td>900 G</td>\n",
       "      <td>actual</td>\n",
       "      <td>Retail</td>\n",
       "      <td>AOA</td>\n",
       "      <td>125.46</td>\n",
       "      <td>1.6762</td>\n",
       "    </tr>\n",
       "    <tr>\n",
       "      <th>5</th>\n",
       "      <td>2008-01-15</td>\n",
       "      <td>Luanda</td>\n",
       "      <td>Luanda</td>\n",
       "      <td>Luanda</td>\n",
       "      <td>-8.838</td>\n",
       "      <td>13.234</td>\n",
       "      <td>milk and dairy</td>\n",
       "      <td>Milk (powder)</td>\n",
       "      <td>50 Pounds</td>\n",
       "      <td>actual</td>\n",
       "      <td>Retail</td>\n",
       "      <td>AOA</td>\n",
       "      <td>1843.2</td>\n",
       "      <td>24.6253</td>\n",
       "    </tr>\n",
       "    <tr>\n",
       "      <th>6</th>\n",
       "      <td>2008-01-15</td>\n",
       "      <td>Luanda</td>\n",
       "      <td>Luanda</td>\n",
       "      <td>Luanda</td>\n",
       "      <td>-8.838</td>\n",
       "      <td>13.234</td>\n",
       "      <td>miscellaneous food</td>\n",
       "      <td>Sugar (white)</td>\n",
       "      <td>900 G</td>\n",
       "      <td>actual</td>\n",
       "      <td>Retail</td>\n",
       "      <td>AOA</td>\n",
       "      <td>117.42</td>\n",
       "      <td>1.5687</td>\n",
       "    </tr>\n",
       "    <tr>\n",
       "      <th>7</th>\n",
       "      <td>2008-01-15</td>\n",
       "      <td>Luanda</td>\n",
       "      <td>Luanda</td>\n",
       "      <td>Luanda</td>\n",
       "      <td>-8.838</td>\n",
       "      <td>13.234</td>\n",
       "      <td>oil and fats</td>\n",
       "      <td>Oil (palm)</td>\n",
       "      <td>L</td>\n",
       "      <td>actual</td>\n",
       "      <td>Retail</td>\n",
       "      <td>AOA</td>\n",
       "      <td>382.84</td>\n",
       "      <td>5.1148</td>\n",
       "    </tr>\n",
       "    <tr>\n",
       "      <th>8</th>\n",
       "      <td>2008-01-15</td>\n",
       "      <td>Luanda</td>\n",
       "      <td>Luanda</td>\n",
       "      <td>Luanda</td>\n",
       "      <td>-8.838</td>\n",
       "      <td>13.234</td>\n",
       "      <td>oil and fats</td>\n",
       "      <td>Oil (soybean)</td>\n",
       "      <td>L</td>\n",
       "      <td>actual</td>\n",
       "      <td>Retail</td>\n",
       "      <td>AOA</td>\n",
       "      <td>225.43</td>\n",
       "      <td>3.0118</td>\n",
       "    </tr>\n",
       "    <tr>\n",
       "      <th>9</th>\n",
       "      <td>2008-02-15</td>\n",
       "      <td>Luanda</td>\n",
       "      <td>Luanda</td>\n",
       "      <td>Luanda</td>\n",
       "      <td>-8.838</td>\n",
       "      <td>13.234</td>\n",
       "      <td>cereals and tubers</td>\n",
       "      <td>Bread</td>\n",
       "      <td>Unit</td>\n",
       "      <td>actual</td>\n",
       "      <td>Retail</td>\n",
       "      <td>AOA</td>\n",
       "      <td>35.8</td>\n",
       "      <td>0.4782</td>\n",
       "    </tr>\n",
       "    <tr>\n",
       "      <th>10</th>\n",
       "      <td>2008-02-15</td>\n",
       "      <td>Luanda</td>\n",
       "      <td>Luanda</td>\n",
       "      <td>Luanda</td>\n",
       "      <td>-8.838</td>\n",
       "      <td>13.234</td>\n",
       "      <td>cereals and tubers</td>\n",
       "      <td>Cassava flour</td>\n",
       "      <td>900 G</td>\n",
       "      <td>actual</td>\n",
       "      <td>Retail</td>\n",
       "      <td>AOA</td>\n",
       "      <td>142.97</td>\n",
       "      <td>1.9098</td>\n",
       "    </tr>\n",
       "  </tbody>\n",
       "</table>\n",
       "</div>"
      ],
      "text/plain": [
       "          date  admin1  admin2  market latitude longitude            category  \\\n",
       "1   2008-01-15  Luanda  Luanda  Luanda   -8.838    13.234  cereals and tubers   \n",
       "2   2008-01-15  Luanda  Luanda  Luanda   -8.838    13.234  cereals and tubers   \n",
       "3   2008-01-15  Luanda  Luanda  Luanda   -8.838    13.234  cereals and tubers   \n",
       "4   2008-01-15  Luanda  Luanda  Luanda   -8.838    13.234  cereals and tubers   \n",
       "5   2008-01-15  Luanda  Luanda  Luanda   -8.838    13.234      milk and dairy   \n",
       "6   2008-01-15  Luanda  Luanda  Luanda   -8.838    13.234  miscellaneous food   \n",
       "7   2008-01-15  Luanda  Luanda  Luanda   -8.838    13.234        oil and fats   \n",
       "8   2008-01-15  Luanda  Luanda  Luanda   -8.838    13.234        oil and fats   \n",
       "9   2008-02-15  Luanda  Luanda  Luanda   -8.838    13.234  cereals and tubers   \n",
       "10  2008-02-15  Luanda  Luanda  Luanda   -8.838    13.234  cereals and tubers   \n",
       "\n",
       "                 commodity       unit priceflag pricetype currency   price  \\\n",
       "1                    Bread       Unit    actual    Retail      AOA    35.2   \n",
       "2            Cassava flour      900 G    actual    Retail      AOA  139.03   \n",
       "3              Maize flour      900 G    actual    Retail      AOA   135.8   \n",
       "4   Rice (regular, milled)      900 G    actual    Retail      AOA  125.46   \n",
       "5            Milk (powder)  50 Pounds    actual    Retail      AOA  1843.2   \n",
       "6            Sugar (white)      900 G    actual    Retail      AOA  117.42   \n",
       "7               Oil (palm)          L    actual    Retail      AOA  382.84   \n",
       "8            Oil (soybean)          L    actual    Retail      AOA  225.43   \n",
       "9                    Bread       Unit    actual    Retail      AOA    35.8   \n",
       "10           Cassava flour      900 G    actual    Retail      AOA  142.97   \n",
       "\n",
       "   usdprice  \n",
       "1    0.4703  \n",
       "2    1.8574  \n",
       "3    1.8143  \n",
       "4    1.6762  \n",
       "5   24.6253  \n",
       "6    1.5687  \n",
       "7    5.1148  \n",
       "8    3.0118  \n",
       "9    0.4782  \n",
       "10   1.9098  "
      ]
     },
     "execution_count": 579,
     "metadata": {},
     "output_type": "execute_result"
    }
   ],
   "source": [
    "df1.head(10)"
   ]
  },
  {
   "cell_type": "code",
   "execution_count": 581,
   "id": "263851b4-fddc-43e5-96ed-8f8eaf5cd313",
   "metadata": {},
   "outputs": [
    {
     "name": "stdout",
     "output_type": "stream",
     "text": [
      "<class 'pandas.core.frame.DataFrame'>\n",
      "RangeIndex: 1191 entries, 1 to 1191\n",
      "Data columns (total 14 columns):\n",
      " #   Column     Non-Null Count  Dtype \n",
      "---  ------     --------------  ----- \n",
      " 0   date       1191 non-null   object\n",
      " 1   admin1     1134 non-null   object\n",
      " 2   admin2     1134 non-null   object\n",
      " 3   market     1191 non-null   object\n",
      " 4   latitude   1134 non-null   object\n",
      " 5   longitude  1134 non-null   object\n",
      " 6   category   1191 non-null   object\n",
      " 7   commodity  1191 non-null   object\n",
      " 8   unit       1191 non-null   object\n",
      " 9   priceflag  1191 non-null   object\n",
      " 10  pricetype  1191 non-null   object\n",
      " 11  currency   1191 non-null   object\n",
      " 12  price      1191 non-null   object\n",
      " 13  usdprice   1191 non-null   object\n",
      "dtypes: object(14)\n",
      "memory usage: 130.4+ KB\n"
     ]
    }
   ],
   "source": [
    "df1.info()"
   ]
  },
  {
   "cell_type": "markdown",
   "id": "462bf540-2eb0-4127-9205-b3cfa510596f",
   "metadata": {},
   "source": [
    "# CONVERSÃO DAS COLUNAS PARA FORMATOS ADEQUADOS"
   ]
  },
  {
   "cell_type": "code",
   "execution_count": 583,
   "id": "375373df-7140-45b9-8aea-53a9b0e8b166",
   "metadata": {},
   "outputs": [],
   "source": [
    "df1['price'] = df1['price'].astype(float)\n",
    "df1['usdprice'] = df1['usdprice'].astype(float)\n",
    "df1['longitude'] = df1['longitude'].astype(float)\n",
    "df1['latitude'] = df1['latitude'].astype(float)\n",
    "df1['admin1'] = df1['admin1'].astype(str)\n",
    "df1['admin2'] = df1['admin2'].astype(str)\n",
    "df1['market'] = df1['market'].astype(str)\n",
    "df1['category'] = df1['category'].astype(str)\n",
    "df1['commodity'] = df1['commodity'].astype(str)\n",
    "df1['unit'] = df1['unit'].astype(str)\n",
    "df1['priceflag'] = df1['priceflag'].astype(str)\n",
    "df1['pricetype'] = df1['pricetype'].astype(str)\n",
    "df1['currency'] = df1['currency'].astype(str)\n",
    "df1['date'] = pd.to_datetime(df1['date'])\n"
   ]
  },
  {
   "cell_type": "code",
   "execution_count": 270,
   "id": "d0066258-d9b8-42c4-866d-ae7ddaf4c2f0",
   "metadata": {},
   "outputs": [
    {
     "name": "stdout",
     "output_type": "stream",
     "text": [
      "<class 'pandas.core.frame.DataFrame'>\n",
      "RangeIndex: 1191 entries, 1 to 1191\n",
      "Data columns (total 14 columns):\n",
      " #   Column     Non-Null Count  Dtype         \n",
      "---  ------     --------------  -----         \n",
      " 0   date       1191 non-null   datetime64[ns]\n",
      " 1   admin1     1191 non-null   object        \n",
      " 2   admin2     1191 non-null   object        \n",
      " 3   market     1191 non-null   object        \n",
      " 4   latitude   1134 non-null   float64       \n",
      " 5   longitude  1134 non-null   float64       \n",
      " 6   category   1191 non-null   object        \n",
      " 7   commodity  1191 non-null   object        \n",
      " 8   unit       1191 non-null   object        \n",
      " 9   priceflag  1191 non-null   object        \n",
      " 10  pricetype  1191 non-null   object        \n",
      " 11  currency   1191 non-null   object        \n",
      " 12  price      1191 non-null   float64       \n",
      " 13  usdprice   1191 non-null   float64       \n",
      "dtypes: datetime64[ns](1), float64(4), object(9)\n",
      "memory usage: 130.4+ KB\n"
     ]
    }
   ],
   "source": [
    "df1.info()"
   ]
  },
  {
   "cell_type": "code",
   "execution_count": 585,
   "id": "f98ee7ac-f39e-42cf-a3f2-00e2b5edefbd",
   "metadata": {},
   "outputs": [
    {
     "data": {
      "text/plain": [
       "date          0\n",
       "admin1        0\n",
       "admin2        0\n",
       "market        0\n",
       "latitude     57\n",
       "longitude    57\n",
       "category      0\n",
       "commodity     0\n",
       "unit          0\n",
       "priceflag     0\n",
       "pricetype     0\n",
       "currency      0\n",
       "price         0\n",
       "usdprice      0\n",
       "dtype: int64"
      ]
     },
     "execution_count": 585,
     "metadata": {},
     "output_type": "execute_result"
    }
   ],
   "source": [
    "df1.isnull().sum()"
   ]
  },
  {
   "cell_type": "markdown",
   "id": "e86beed8-f208-4e98-b667-d24863d476d4",
   "metadata": {},
   "source": [
    "# TRATAMENTO DE CAMPOS NULL"
   ]
  },
  {
   "cell_type": "code",
   "execution_count": 587,
   "id": "c5965806-e78d-4050-838c-dee34e2d9ad1",
   "metadata": {},
   "outputs": [
    {
     "name": "stdout",
     "output_type": "stream",
     "text": [
      "-8.838\n",
      "13.234\n",
      "<class 'pandas.core.frame.DataFrame'>\n",
      "RangeIndex: 1191 entries, 1 to 1191\n",
      "Data columns (total 14 columns):\n",
      " #   Column     Non-Null Count  Dtype         \n",
      "---  ------     --------------  -----         \n",
      " 0   date       1191 non-null   datetime64[ns]\n",
      " 1   admin1     1191 non-null   object        \n",
      " 2   admin2     1191 non-null   object        \n",
      " 3   market     1191 non-null   object        \n",
      " 4   latitude   1191 non-null   float64       \n",
      " 5   longitude  1191 non-null   float64       \n",
      " 6   category   1191 non-null   object        \n",
      " 7   commodity  1191 non-null   object        \n",
      " 8   unit       1191 non-null   object        \n",
      " 9   priceflag  1191 non-null   object        \n",
      " 10  pricetype  1191 non-null   object        \n",
      " 11  currency   1191 non-null   object        \n",
      " 12  price      1191 non-null   float64       \n",
      " 13  usdprice   1191 non-null   float64       \n",
      "dtypes: datetime64[ns](1), float64(4), object(9)\n",
      "memory usage: 130.4+ KB\n"
     ]
    }
   ],
   "source": [
    "lat = df1['latitude'].mode()[0]\n",
    "print (lat)\n",
    "df1['latitude'] = df1['latitude'].fillna(lat)\n",
    "long = df1['longitude'].mode()[0]\n",
    "print (long)\n",
    "df1['longitude'] = df1['longitude'].fillna(long)\n",
    "\n",
    "df1.info()"
   ]
  },
  {
   "cell_type": "code",
   "execution_count": 278,
   "id": "0fe9c2f1-b478-4fc0-8a98-3fa9c9ea4989",
   "metadata": {},
   "outputs": [
    {
     "data": {
      "text/plain": [
       "date         0\n",
       "admin1       0\n",
       "admin2       0\n",
       "market       0\n",
       "latitude     0\n",
       "longitude    0\n",
       "category     0\n",
       "commodity    0\n",
       "unit         0\n",
       "priceflag    0\n",
       "pricetype    0\n",
       "currency     0\n",
       "price        0\n",
       "usdprice     0\n",
       "dtype: int64"
      ]
     },
     "execution_count": 278,
     "metadata": {},
     "output_type": "execute_result"
    }
   ],
   "source": [
    "df1.isnull().sum()"
   ]
  },
  {
   "cell_type": "markdown",
   "id": "fdd7a1a3-c09b-4094-99ea-f6c2ee31730b",
   "metadata": {},
   "source": [
    "# ANALISE UNIVARIAVEL"
   ]
  },
  {
   "cell_type": "code",
   "execution_count": 607,
   "id": "8ab7fe5e-e579-4006-88a3-0485906a47c9",
   "metadata": {},
   "outputs": [
    {
     "data": {
      "text/plain": [
       "Text(0.5, 1.0, 'Histograma dos Mercados')"
      ]
     },
     "execution_count": 607,
     "metadata": {},
     "output_type": "execute_result"
    },
    {
     "data": {
      "image/png": "[encoded data removed]",
      "text/plain": [
       "<Figure size 640x480 with 1 Axes>"
      ]
     },
     "metadata": {},
     "output_type": "display_data"
    }
   ],
   "source": [
    "plt.hist(df1.market)\n",
    "plt.title(\"Histograma dos Mercados\")"
   ]
  },
  {
   "cell_type": "code",
   "execution_count": 609,
   "id": "fc0e5d56-e39d-486a-8c27-13a3d9844596",
   "metadata": {},
   "outputs": [
    {
     "data": {
      "text/plain": [
       "Text(0.5, 1.0, 'Histograma das Categorias dos Produtos')"
      ]
     },
     "execution_count": 609,
     "metadata": {},
     "output_type": "execute_result"
    },
    {
     "data": {
      "image/png": "[encoded data removed]",
      "text/plain": [
       "<Figure size 640x480 with 1 Axes>"
      ]
     },
     "metadata": {},
     "output_type": "display_data"
    }
   ],
   "source": [
    "df1.category.value_counts().plot.bar()\n",
    "plt.title(\"Histograma das Categorias dos Produtos\")"
   ]
  },
  {
   "cell_type": "code",
   "execution_count": 611,
   "id": "d7a5a3ca-941c-4220-83ab-21668e969b4d",
   "metadata": {},
   "outputs": [
    {
     "data": {
      "text/plain": [
       "Text(0.5, 1.0, 'Histograma dos Produtos')"
      ]
     },
     "execution_count": 611,
     "metadata": {},
     "output_type": "execute_result"
    },
    {
     "data": {
      "image/png": "[encoded data removed]",
      "text/plain": [
       "<Figure size 640x480 with 1 Axes>"
      ]
     },
     "metadata": {},
     "output_type": "display_data"
    }
   ],
   "source": [
    "df1.commodity.value_counts(1).plot.bar()\n",
    "plt.title(\"Histograma dos Produtos\")"
   ]
  },
  {
   "cell_type": "markdown",
   "id": "3221e2f1-c975-42d8-bc97-75b8a7e49f19",
   "metadata": {},
   "source": [
    "# ANALISE DO AUMENTO POR PRODUTO\n"
   ]
  },
  {
   "cell_type": "markdown",
   "id": "c4059d59-377c-4f47-bf3b-3500b88c77d1",
   "metadata": {},
   "source": [
    "<br>\n",
    "<br>\n",
    "<br>\n",
    "<br> Começamos por calcular quantas vezes os produtos aparecem no DataFrame\n",
    "<br>\n",
    "<br>\n",
    "<br>"
   ]
  },
  {
   "cell_type": "code",
   "execution_count": 286,
   "id": "09d16459-6d0b-475c-8876-0a354b093863",
   "metadata": {},
   "outputs": [
    {
     "data": {
      "text/plain": [
       "commodity\n",
       "Cassava flour             170\n",
       "Bread                     156\n",
       "Maize flour               156\n",
       "Rice (regular, milled)    156\n",
       "Milk (powder)             156\n",
       "Oil (palm)                156\n",
       "Sugar (white)             102\n",
       "Oil (soybean)              88\n",
       "Beans (kidney, pinto)      14\n",
       "Fish (mackerel, dry)       13\n",
       "Maize meal (yellow)        10\n",
       "Rice (white, imported)      7\n",
       "Salt (iodised)              6\n",
       "Cowpeas                     1\n",
       "Name: count, dtype: int64"
      ]
     },
     "execution_count": 286,
     "metadata": {},
     "output_type": "execute_result"
    }
   ],
   "source": [
    "df1.commodity.value_counts()"
   ]
  },
  {
   "cell_type": "code",
   "execution_count": 589,
   "id": "c4dc0f45-bba1-4427-9b06-8123a92065f9",
   "metadata": {},
   "outputs": [],
   "source": [
    "df1['date'] = pd.to_datetime(df1['date'])"
   ]
  },
  {
   "cell_type": "code",
   "execution_count": 591,
   "id": "fe22e854-e661-4692-8f93-1c9bdfb9ea3d",
   "metadata": {},
   "outputs": [
    {
     "data": {
      "text/html": [
       "<div>\n",
       "<style scoped>\n",
       "    .dataframe tbody tr th:only-of-type {\n",
       "        vertical-align: middle;\n",
       "    }\n",
       "\n",
       "    .dataframe tbody tr th {\n",
       "        vertical-align: top;\n",
       "    }\n",
       "\n",
       "    .dataframe thead th {\n",
       "        text-align: right;\n",
       "    }\n",
       "</style>\n",
       "<table border=\"1\" class=\"dataframe\">\n",
       "  <thead>\n",
       "    <tr style=\"text-align: right;\">\n",
       "      <th></th>\n",
       "      <th>date</th>\n",
       "      <th>admin1</th>\n",
       "      <th>admin2</th>\n",
       "      <th>market</th>\n",
       "      <th>latitude</th>\n",
       "      <th>longitude</th>\n",
       "      <th>category</th>\n",
       "      <th>commodity</th>\n",
       "      <th>unit</th>\n",
       "      <th>priceflag</th>\n",
       "      <th>pricetype</th>\n",
       "      <th>currency</th>\n",
       "      <th>price</th>\n",
       "      <th>usdprice</th>\n",
       "      <th>year</th>\n",
       "    </tr>\n",
       "  </thead>\n",
       "  <tbody>\n",
       "    <tr>\n",
       "      <th>2</th>\n",
       "      <td>2008-01-15</td>\n",
       "      <td>Luanda</td>\n",
       "      <td>Luanda</td>\n",
       "      <td>Luanda</td>\n",
       "      <td>-8.838</td>\n",
       "      <td>13.234</td>\n",
       "      <td>cereals and tubers</td>\n",
       "      <td>Cassava flour</td>\n",
       "      <td>900 G</td>\n",
       "      <td>actual</td>\n",
       "      <td>Retail</td>\n",
       "      <td>AOA</td>\n",
       "      <td>139.03</td>\n",
       "      <td>1.8574</td>\n",
       "      <td>2008</td>\n",
       "    </tr>\n",
       "    <tr>\n",
       "      <th>10</th>\n",
       "      <td>2008-02-15</td>\n",
       "      <td>Luanda</td>\n",
       "      <td>Luanda</td>\n",
       "      <td>Luanda</td>\n",
       "      <td>-8.838</td>\n",
       "      <td>13.234</td>\n",
       "      <td>cereals and tubers</td>\n",
       "      <td>Cassava flour</td>\n",
       "      <td>900 G</td>\n",
       "      <td>actual</td>\n",
       "      <td>Retail</td>\n",
       "      <td>AOA</td>\n",
       "      <td>142.97</td>\n",
       "      <td>1.9098</td>\n",
       "      <td>2008</td>\n",
       "    </tr>\n",
       "    <tr>\n",
       "      <th>17</th>\n",
       "      <td>2008-03-15</td>\n",
       "      <td>Luanda</td>\n",
       "      <td>Luanda</td>\n",
       "      <td>Luanda</td>\n",
       "      <td>-8.838</td>\n",
       "      <td>13.234</td>\n",
       "      <td>cereals and tubers</td>\n",
       "      <td>Cassava flour</td>\n",
       "      <td>900 G</td>\n",
       "      <td>actual</td>\n",
       "      <td>Retail</td>\n",
       "      <td>AOA</td>\n",
       "      <td>146.39</td>\n",
       "      <td>1.9506</td>\n",
       "      <td>2008</td>\n",
       "    </tr>\n",
       "    <tr>\n",
       "      <th>24</th>\n",
       "      <td>2008-04-15</td>\n",
       "      <td>Luanda</td>\n",
       "      <td>Luanda</td>\n",
       "      <td>Luanda</td>\n",
       "      <td>-8.838</td>\n",
       "      <td>13.234</td>\n",
       "      <td>cereals and tubers</td>\n",
       "      <td>Cassava flour</td>\n",
       "      <td>900 G</td>\n",
       "      <td>actual</td>\n",
       "      <td>Retail</td>\n",
       "      <td>AOA</td>\n",
       "      <td>149.24</td>\n",
       "      <td>1.9936</td>\n",
       "      <td>2008</td>\n",
       "    </tr>\n",
       "    <tr>\n",
       "      <th>32</th>\n",
       "      <td>2008-05-15</td>\n",
       "      <td>Luanda</td>\n",
       "      <td>Luanda</td>\n",
       "      <td>Luanda</td>\n",
       "      <td>-8.838</td>\n",
       "      <td>13.234</td>\n",
       "      <td>cereals and tubers</td>\n",
       "      <td>Cassava flour</td>\n",
       "      <td>900 G</td>\n",
       "      <td>actual</td>\n",
       "      <td>Retail</td>\n",
       "      <td>AOA</td>\n",
       "      <td>147.77</td>\n",
       "      <td>1.9753</td>\n",
       "      <td>2008</td>\n",
       "    </tr>\n",
       "  </tbody>\n",
       "</table>\n",
       "</div>"
      ],
      "text/plain": [
       "         date  admin1  admin2  market  latitude  longitude  \\\n",
       "2  2008-01-15  Luanda  Luanda  Luanda    -8.838     13.234   \n",
       "10 2008-02-15  Luanda  Luanda  Luanda    -8.838     13.234   \n",
       "17 2008-03-15  Luanda  Luanda  Luanda    -8.838     13.234   \n",
       "24 2008-04-15  Luanda  Luanda  Luanda    -8.838     13.234   \n",
       "32 2008-05-15  Luanda  Luanda  Luanda    -8.838     13.234   \n",
       "\n",
       "              category      commodity   unit priceflag pricetype currency  \\\n",
       "2   cereals and tubers  Cassava flour  900 G    actual    Retail      AOA   \n",
       "10  cereals and tubers  Cassava flour  900 G    actual    Retail      AOA   \n",
       "17  cereals and tubers  Cassava flour  900 G    actual    Retail      AOA   \n",
       "24  cereals and tubers  Cassava flour  900 G    actual    Retail      AOA   \n",
       "32  cereals and tubers  Cassava flour  900 G    actual    Retail      AOA   \n",
       "\n",
       "     price  usdprice  year  \n",
       "2   139.03    1.8574  2008  \n",
       "10  142.97    1.9098  2008  \n",
       "17  146.39    1.9506  2008  \n",
       "24  149.24    1.9936  2008  \n",
       "32  147.77    1.9753  2008  "
      ]
     },
     "execution_count": 591,
     "metadata": {},
     "output_type": "execute_result"
    }
   ],
   "source": [
    "prod1 ='Cassava flour'\n",
    "Cassava= df1[df1['commodity']== prod1 ].copy()\n",
    "Cassava['year'] = Cassava['date'].dt.year\n",
    "Cassava.head()"
   ]
  },
  {
   "cell_type": "code",
   "execution_count": 603,
   "id": "6b9bfe0e-9800-45ff-9506-726cf51e6a93",
   "metadata": {},
   "outputs": [
    {
     "data": {
      "text/plain": [
       "year\n",
       "2008    149.183333\n",
       "2009    166.070833\n",
       "2010    193.708333\n",
       "2011    247.730000\n",
       "2012    275.760000\n",
       "2013    312.730833\n",
       "2014    329.184167\n",
       "2015    349.798333\n",
       "2016    222.811905\n",
       "2017    462.541667\n",
       "2018    433.261765\n",
       "2019    603.665833\n",
       "2020    728.939167\n",
       "Name: price, dtype: float64"
      ]
     },
     "execution_count": 603,
     "metadata": {},
     "output_type": "execute_result"
    }
   ],
   "source": [
    "media_preco= Cassava.groupby('year')['price'].mean()\n",
    "\n",
    "media_preco.head(20)"
   ]
  },
  {
   "cell_type": "code",
   "execution_count": 660,
   "id": "f18d9def-d509-4b1c-af69-899f2dd246dc",
   "metadata": {},
   "outputs": [
    {
     "data": {
      "text/plain": [
       "Text(0, 0.5, 'price')"
      ]
     },
     "execution_count": 660,
     "metadata": {},
     "output_type": "execute_result"
    },
    {
     "data": {
      "image/png": "[encoded data removed]",
      "text/plain": [
       "<Figure size 1000x600 with 1 Axes>"
      ]
     },
     "metadata": {},
     "output_type": "display_data"
    }
   ],
   "source": [
    "media_preco.plot.bar(figsize=(10, 6), color='green', edgecolor='black')\n",
    "plt.title('SUBIDA DO PREÇO DA FARINHA DE MANDIOCA')\n",
    "plt.xlabel('date')\n",
    "plt.ylabel('price')\n"
   ]
  },
  {
   "cell_type": "code",
   "execution_count": 498,
   "id": "4acc1f1b-85eb-4d89-ab9d-dd016420a737",
   "metadata": {},
   "outputs": [
    {
     "name": "stdout",
     "output_type": "stream",
     "text": [
      "217.13763696196372 %\n"
     ]
    }
   ],
   "source": [
    "percf= media_preco.pct_change() * 100\n",
    "percfuba=percf.sum()\n",
    "print (percfuba,\"%\")"
   ]
  },
  {
   "cell_type": "code",
   "execution_count": 662,
   "id": "342cb60d-6366-4545-913d-6a3d386dfada",
   "metadata": {},
   "outputs": [
    {
     "data": {
      "text/html": [
       "<div>\n",
       "<style scoped>\n",
       "    .dataframe tbody tr th:only-of-type {\n",
       "        vertical-align: middle;\n",
       "    }\n",
       "\n",
       "    .dataframe tbody tr th {\n",
       "        vertical-align: top;\n",
       "    }\n",
       "\n",
       "    .dataframe thead th {\n",
       "        text-align: right;\n",
       "    }\n",
       "</style>\n",
       "<table border=\"1\" class=\"dataframe\">\n",
       "  <thead>\n",
       "    <tr style=\"text-align: right;\">\n",
       "      <th></th>\n",
       "      <th>date</th>\n",
       "      <th>admin1</th>\n",
       "      <th>admin2</th>\n",
       "      <th>market</th>\n",
       "      <th>latitude</th>\n",
       "      <th>longitude</th>\n",
       "      <th>category</th>\n",
       "      <th>commodity</th>\n",
       "      <th>unit</th>\n",
       "      <th>priceflag</th>\n",
       "      <th>pricetype</th>\n",
       "      <th>currency</th>\n",
       "      <th>price</th>\n",
       "      <th>usdprice</th>\n",
       "      <th>year</th>\n",
       "    </tr>\n",
       "  </thead>\n",
       "  <tbody>\n",
       "    <tr>\n",
       "      <th>1</th>\n",
       "      <td>2008-01-15</td>\n",
       "      <td>Luanda</td>\n",
       "      <td>Luanda</td>\n",
       "      <td>Luanda</td>\n",
       "      <td>-8.838</td>\n",
       "      <td>13.234</td>\n",
       "      <td>cereals and tubers</td>\n",
       "      <td>Bread</td>\n",
       "      <td>Unit</td>\n",
       "      <td>actual</td>\n",
       "      <td>Retail</td>\n",
       "      <td>AOA</td>\n",
       "      <td>35.20</td>\n",
       "      <td>0.4703</td>\n",
       "      <td>2008</td>\n",
       "    </tr>\n",
       "    <tr>\n",
       "      <th>9</th>\n",
       "      <td>2008-02-15</td>\n",
       "      <td>Luanda</td>\n",
       "      <td>Luanda</td>\n",
       "      <td>Luanda</td>\n",
       "      <td>-8.838</td>\n",
       "      <td>13.234</td>\n",
       "      <td>cereals and tubers</td>\n",
       "      <td>Bread</td>\n",
       "      <td>Unit</td>\n",
       "      <td>actual</td>\n",
       "      <td>Retail</td>\n",
       "      <td>AOA</td>\n",
       "      <td>35.80</td>\n",
       "      <td>0.4782</td>\n",
       "      <td>2008</td>\n",
       "    </tr>\n",
       "    <tr>\n",
       "      <th>16</th>\n",
       "      <td>2008-03-15</td>\n",
       "      <td>Luanda</td>\n",
       "      <td>Luanda</td>\n",
       "      <td>Luanda</td>\n",
       "      <td>-8.838</td>\n",
       "      <td>13.234</td>\n",
       "      <td>cereals and tubers</td>\n",
       "      <td>Bread</td>\n",
       "      <td>Unit</td>\n",
       "      <td>actual</td>\n",
       "      <td>Retail</td>\n",
       "      <td>AOA</td>\n",
       "      <td>35.97</td>\n",
       "      <td>0.4793</td>\n",
       "      <td>2008</td>\n",
       "    </tr>\n",
       "    <tr>\n",
       "      <th>23</th>\n",
       "      <td>2008-04-15</td>\n",
       "      <td>Luanda</td>\n",
       "      <td>Luanda</td>\n",
       "      <td>Luanda</td>\n",
       "      <td>-8.838</td>\n",
       "      <td>13.234</td>\n",
       "      <td>cereals and tubers</td>\n",
       "      <td>Bread</td>\n",
       "      <td>Unit</td>\n",
       "      <td>actual</td>\n",
       "      <td>Retail</td>\n",
       "      <td>AOA</td>\n",
       "      <td>36.02</td>\n",
       "      <td>0.4812</td>\n",
       "      <td>2008</td>\n",
       "    </tr>\n",
       "    <tr>\n",
       "      <th>31</th>\n",
       "      <td>2008-05-15</td>\n",
       "      <td>Luanda</td>\n",
       "      <td>Luanda</td>\n",
       "      <td>Luanda</td>\n",
       "      <td>-8.838</td>\n",
       "      <td>13.234</td>\n",
       "      <td>cereals and tubers</td>\n",
       "      <td>Bread</td>\n",
       "      <td>Unit</td>\n",
       "      <td>actual</td>\n",
       "      <td>Retail</td>\n",
       "      <td>AOA</td>\n",
       "      <td>36.75</td>\n",
       "      <td>0.4912</td>\n",
       "      <td>2008</td>\n",
       "    </tr>\n",
       "  </tbody>\n",
       "</table>\n",
       "</div>"
      ],
      "text/plain": [
       "         date  admin1  admin2  market  latitude  longitude  \\\n",
       "1  2008-01-15  Luanda  Luanda  Luanda    -8.838     13.234   \n",
       "9  2008-02-15  Luanda  Luanda  Luanda    -8.838     13.234   \n",
       "16 2008-03-15  Luanda  Luanda  Luanda    -8.838     13.234   \n",
       "23 2008-04-15  Luanda  Luanda  Luanda    -8.838     13.234   \n",
       "31 2008-05-15  Luanda  Luanda  Luanda    -8.838     13.234   \n",
       "\n",
       "              category commodity  unit priceflag pricetype currency  price  \\\n",
       "1   cereals and tubers     Bread  Unit    actual    Retail      AOA  35.20   \n",
       "9   cereals and tubers     Bread  Unit    actual    Retail      AOA  35.80   \n",
       "16  cereals and tubers     Bread  Unit    actual    Retail      AOA  35.97   \n",
       "23  cereals and tubers     Bread  Unit    actual    Retail      AOA  36.02   \n",
       "31  cereals and tubers     Bread  Unit    actual    Retail      AOA  36.75   \n",
       "\n",
       "    usdprice  year  \n",
       "1     0.4703  2008  \n",
       "9     0.4782  2008  \n",
       "16    0.4793  2008  \n",
       "23    0.4812  2008  \n",
       "31    0.4912  2008  "
      ]
     },
     "execution_count": 662,
     "metadata": {},
     "output_type": "execute_result"
    }
   ],
   "source": [
    "\n",
    "Bread= df1[df1['commodity'] == 'Bread'].copy()\n",
    "Bread['year'] = Bread['date'].dt.year\n",
    "Bread.head()\n",
    "\n"
   ]
  },
  {
   "cell_type": "code",
   "execution_count": null,
   "id": "ed709da2-ab22-4f72-8ace-f9137d9c509a",
   "metadata": {},
   "outputs": [],
   "source": []
  },
  {
   "cell_type": "code",
   "execution_count": 664,
   "id": "a5e91376-4411-4b81-9b7b-6ea503260f7b",
   "metadata": {},
   "outputs": [
    {
     "data": {
      "text/plain": [
       "Text(0, 0.5, 'price')"
      ]
     },
     "execution_count": 664,
     "metadata": {},
     "output_type": "execute_result"
    },
    {
     "data": {
      "image/png": "[encoded data removed]",
      "text/plain": [
       "<Figure size 1000x600 with 1 Axes>"
      ]
     },
     "metadata": {},
     "output_type": "display_data"
    }
   ],
   "source": [
    "media_preco1= Bread.groupby('year')['price'].mean()\n",
    "\n",
    "media_preco1.plot.bar(figsize=(10, 6), color='green', edgecolor='black')\n",
    "plt.title('SUBIDA DO PREÇO DO PÃO')\n",
    "plt.xlabel('date')\n",
    "plt.ylabel('price')"
   ]
  },
  {
   "cell_type": "code",
   "execution_count": 494,
   "id": "2c614904-b9b1-4c70-bf1d-7a60c146e92c",
   "metadata": {},
   "outputs": [
    {
     "name": "stdout",
     "output_type": "stream",
     "text": [
      "122.43611002249612 %\n"
     ]
    }
   ],
   "source": [
    "percp= media_preco1.pct_change() * 100\n",
    "percbread=percp.sum()\n",
    "print (percbread,\"%\")"
   ]
  },
  {
   "cell_type": "code",
   "execution_count": 165,
   "id": "da650cf3-3d2c-4466-b1ef-6f2b26d5a3f6",
   "metadata": {},
   "outputs": [
    {
     "data": {
      "text/plain": [
       "commodity\n",
       "Cassava flour             170\n",
       "Bread                     156\n",
       "Maize flour               156\n",
       "Rice (regular, milled)    156\n",
       "Milk (powder)             156\n",
       "Oil (palm)                156\n",
       "Sugar (white)             102\n",
       "Oil (soybean)              88\n",
       "Beans (kidney, pinto)      14\n",
       "Fish (mackerel, dry)       13\n",
       "Maize meal (yellow)        10\n",
       "Rice (white, imported)      7\n",
       "Salt (iodised)              6\n",
       "Cowpeas                     1\n",
       "Name: count, dtype: int64"
      ]
     },
     "execution_count": 165,
     "metadata": {},
     "output_type": "execute_result"
    }
   ],
   "source": [
    "df.commodity.value_counts()"
   ]
  },
  {
   "cell_type": "code",
   "execution_count": 619,
   "id": "9b5393eb-4cb9-4814-9df8-76dba9d5e22b",
   "metadata": {},
   "outputs": [
    {
     "data": {
      "text/html": [
       "<div>\n",
       "<style scoped>\n",
       "    .dataframe tbody tr th:only-of-type {\n",
       "        vertical-align: middle;\n",
       "    }\n",
       "\n",
       "    .dataframe tbody tr th {\n",
       "        vertical-align: top;\n",
       "    }\n",
       "\n",
       "    .dataframe thead th {\n",
       "        text-align: right;\n",
       "    }\n",
       "</style>\n",
       "<table border=\"1\" class=\"dataframe\">\n",
       "  <thead>\n",
       "    <tr style=\"text-align: right;\">\n",
       "      <th></th>\n",
       "      <th>date</th>\n",
       "      <th>admin1</th>\n",
       "      <th>admin2</th>\n",
       "      <th>market</th>\n",
       "      <th>latitude</th>\n",
       "      <th>longitude</th>\n",
       "      <th>category</th>\n",
       "      <th>commodity</th>\n",
       "      <th>unit</th>\n",
       "      <th>priceflag</th>\n",
       "      <th>pricetype</th>\n",
       "      <th>currency</th>\n",
       "      <th>price</th>\n",
       "      <th>usdprice</th>\n",
       "      <th>year</th>\n",
       "    </tr>\n",
       "  </thead>\n",
       "  <tbody>\n",
       "    <tr>\n",
       "      <th>3</th>\n",
       "      <td>2008-01-15</td>\n",
       "      <td>Luanda</td>\n",
       "      <td>Luanda</td>\n",
       "      <td>Luanda</td>\n",
       "      <td>-8.838</td>\n",
       "      <td>13.234</td>\n",
       "      <td>cereals and tubers</td>\n",
       "      <td>Maize flour</td>\n",
       "      <td>900 G</td>\n",
       "      <td>actual</td>\n",
       "      <td>Retail</td>\n",
       "      <td>AOA</td>\n",
       "      <td>135.80</td>\n",
       "      <td>1.8143</td>\n",
       "      <td>2008</td>\n",
       "    </tr>\n",
       "    <tr>\n",
       "      <th>11</th>\n",
       "      <td>2008-02-15</td>\n",
       "      <td>Luanda</td>\n",
       "      <td>Luanda</td>\n",
       "      <td>Luanda</td>\n",
       "      <td>-8.838</td>\n",
       "      <td>13.234</td>\n",
       "      <td>cereals and tubers</td>\n",
       "      <td>Maize flour</td>\n",
       "      <td>900 G</td>\n",
       "      <td>actual</td>\n",
       "      <td>Retail</td>\n",
       "      <td>AOA</td>\n",
       "      <td>140.70</td>\n",
       "      <td>1.8795</td>\n",
       "      <td>2008</td>\n",
       "    </tr>\n",
       "    <tr>\n",
       "      <th>18</th>\n",
       "      <td>2008-03-15</td>\n",
       "      <td>Luanda</td>\n",
       "      <td>Luanda</td>\n",
       "      <td>Luanda</td>\n",
       "      <td>-8.838</td>\n",
       "      <td>13.234</td>\n",
       "      <td>cereals and tubers</td>\n",
       "      <td>Maize flour</td>\n",
       "      <td>900 G</td>\n",
       "      <td>actual</td>\n",
       "      <td>Retail</td>\n",
       "      <td>AOA</td>\n",
       "      <td>142.10</td>\n",
       "      <td>1.8934</td>\n",
       "      <td>2008</td>\n",
       "    </tr>\n",
       "    <tr>\n",
       "      <th>25</th>\n",
       "      <td>2008-04-15</td>\n",
       "      <td>Luanda</td>\n",
       "      <td>Luanda</td>\n",
       "      <td>Luanda</td>\n",
       "      <td>-8.838</td>\n",
       "      <td>13.234</td>\n",
       "      <td>cereals and tubers</td>\n",
       "      <td>Maize flour</td>\n",
       "      <td>900 G</td>\n",
       "      <td>actual</td>\n",
       "      <td>Retail</td>\n",
       "      <td>AOA</td>\n",
       "      <td>146.63</td>\n",
       "      <td>1.9587</td>\n",
       "      <td>2008</td>\n",
       "    </tr>\n",
       "    <tr>\n",
       "      <th>33</th>\n",
       "      <td>2008-05-15</td>\n",
       "      <td>Luanda</td>\n",
       "      <td>Luanda</td>\n",
       "      <td>Luanda</td>\n",
       "      <td>-8.838</td>\n",
       "      <td>13.234</td>\n",
       "      <td>cereals and tubers</td>\n",
       "      <td>Maize flour</td>\n",
       "      <td>900 G</td>\n",
       "      <td>actual</td>\n",
       "      <td>Retail</td>\n",
       "      <td>AOA</td>\n",
       "      <td>147.91</td>\n",
       "      <td>1.9771</td>\n",
       "      <td>2008</td>\n",
       "    </tr>\n",
       "  </tbody>\n",
       "</table>\n",
       "</div>"
      ],
      "text/plain": [
       "         date  admin1  admin2  market  latitude  longitude  \\\n",
       "3  2008-01-15  Luanda  Luanda  Luanda    -8.838     13.234   \n",
       "11 2008-02-15  Luanda  Luanda  Luanda    -8.838     13.234   \n",
       "18 2008-03-15  Luanda  Luanda  Luanda    -8.838     13.234   \n",
       "25 2008-04-15  Luanda  Luanda  Luanda    -8.838     13.234   \n",
       "33 2008-05-15  Luanda  Luanda  Luanda    -8.838     13.234   \n",
       "\n",
       "              category    commodity   unit priceflag pricetype currency  \\\n",
       "3   cereals and tubers  Maize flour  900 G    actual    Retail      AOA   \n",
       "11  cereals and tubers  Maize flour  900 G    actual    Retail      AOA   \n",
       "18  cereals and tubers  Maize flour  900 G    actual    Retail      AOA   \n",
       "25  cereals and tubers  Maize flour  900 G    actual    Retail      AOA   \n",
       "33  cereals and tubers  Maize flour  900 G    actual    Retail      AOA   \n",
       "\n",
       "     price  usdprice  year  \n",
       "3   135.80    1.8143  2008  \n",
       "11  140.70    1.8795  2008  \n",
       "18  142.10    1.8934  2008  \n",
       "25  146.63    1.9587  2008  \n",
       "33  147.91    1.9771  2008  "
      ]
     },
     "execution_count": 619,
     "metadata": {},
     "output_type": "execute_result"
    }
   ],
   "source": [
    "F_milho= df1[df1['commodity'] == 'Maize flour'].copy()\n",
    "F_milho['year'] = F_milho['date'].dt.year\n",
    "F_milho.head()"
   ]
  },
  {
   "cell_type": "code",
   "execution_count": 621,
   "id": "f8ec87bc-8225-4681-ae34-ef4dda1a61e0",
   "metadata": {},
   "outputs": [
    {
     "data": {
      "text/plain": [
       "Text(0, 0.5, 'price')"
      ]
     },
     "execution_count": 621,
     "metadata": {},
     "output_type": "execute_result"
    },
    {
     "data": {
      "image/png": "[encoded data removed]",
      "text/plain": [
       "<Figure size 1000x600 with 1 Axes>"
      ]
     },
     "metadata": {},
     "output_type": "display_data"
    }
   ],
   "source": [
    "F_milho= F_milho.groupby('year')['price'].mean()\n",
    "F_milho.plot.bar(figsize=(10, 6), color='green', edgecolor='black')\n",
    "plt.title('SUBIDA DO PREÇO DA FARINHA DE MILHO')\n",
    "plt.xlabel('date')\n",
    "plt.ylabel('price')"
   ]
  },
  {
   "cell_type": "code",
   "execution_count": 625,
   "id": "395e18f4-fd10-4866-a4a7-7b3029eae4d8",
   "metadata": {},
   "outputs": [
    {
     "name": "stdout",
     "output_type": "stream",
     "text": [
      "189.78116814626088 %\n"
     ]
    }
   ],
   "source": [
    "percmi= F_milho.pct_change() * 100\n",
    "percfmilh=percmi.sum()\n",
    "print (percfmilh,\"%\")"
   ]
  },
  {
   "cell_type": "code",
   "execution_count": 631,
   "id": "96f62b00-048b-4392-a2c3-7215ed15d00e",
   "metadata": {},
   "outputs": [
    {
     "data": {
      "text/html": [
       "<div>\n",
       "<style scoped>\n",
       "    .dataframe tbody tr th:only-of-type {\n",
       "        vertical-align: middle;\n",
       "    }\n",
       "\n",
       "    .dataframe tbody tr th {\n",
       "        vertical-align: top;\n",
       "    }\n",
       "\n",
       "    .dataframe thead th {\n",
       "        text-align: right;\n",
       "    }\n",
       "</style>\n",
       "<table border=\"1\" class=\"dataframe\">\n",
       "  <thead>\n",
       "    <tr style=\"text-align: right;\">\n",
       "      <th></th>\n",
       "      <th>date</th>\n",
       "      <th>admin1</th>\n",
       "      <th>admin2</th>\n",
       "      <th>market</th>\n",
       "      <th>latitude</th>\n",
       "      <th>longitude</th>\n",
       "      <th>category</th>\n",
       "      <th>commodity</th>\n",
       "      <th>unit</th>\n",
       "      <th>priceflag</th>\n",
       "      <th>pricetype</th>\n",
       "      <th>currency</th>\n",
       "      <th>price</th>\n",
       "      <th>usdprice</th>\n",
       "      <th>year</th>\n",
       "    </tr>\n",
       "  </thead>\n",
       "  <tbody>\n",
       "    <tr>\n",
       "      <th>4</th>\n",
       "      <td>2008-01-15</td>\n",
       "      <td>Luanda</td>\n",
       "      <td>Luanda</td>\n",
       "      <td>Luanda</td>\n",
       "      <td>-8.838</td>\n",
       "      <td>13.234</td>\n",
       "      <td>cereals and tubers</td>\n",
       "      <td>Rice (regular, milled)</td>\n",
       "      <td>900 G</td>\n",
       "      <td>actual</td>\n",
       "      <td>Retail</td>\n",
       "      <td>AOA</td>\n",
       "      <td>125.46</td>\n",
       "      <td>1.6762</td>\n",
       "      <td>2008</td>\n",
       "    </tr>\n",
       "    <tr>\n",
       "      <th>12</th>\n",
       "      <td>2008-02-15</td>\n",
       "      <td>Luanda</td>\n",
       "      <td>Luanda</td>\n",
       "      <td>Luanda</td>\n",
       "      <td>-8.838</td>\n",
       "      <td>13.234</td>\n",
       "      <td>cereals and tubers</td>\n",
       "      <td>Rice (regular, milled)</td>\n",
       "      <td>900 G</td>\n",
       "      <td>actual</td>\n",
       "      <td>Retail</td>\n",
       "      <td>AOA</td>\n",
       "      <td>129.75</td>\n",
       "      <td>1.7332</td>\n",
       "      <td>2008</td>\n",
       "    </tr>\n",
       "    <tr>\n",
       "      <th>19</th>\n",
       "      <td>2008-03-15</td>\n",
       "      <td>Luanda</td>\n",
       "      <td>Luanda</td>\n",
       "      <td>Luanda</td>\n",
       "      <td>-8.838</td>\n",
       "      <td>13.234</td>\n",
       "      <td>cereals and tubers</td>\n",
       "      <td>Rice (regular, milled)</td>\n",
       "      <td>900 G</td>\n",
       "      <td>actual</td>\n",
       "      <td>Retail</td>\n",
       "      <td>AOA</td>\n",
       "      <td>130.72</td>\n",
       "      <td>1.7418</td>\n",
       "      <td>2008</td>\n",
       "    </tr>\n",
       "    <tr>\n",
       "      <th>26</th>\n",
       "      <td>2008-04-15</td>\n",
       "      <td>Luanda</td>\n",
       "      <td>Luanda</td>\n",
       "      <td>Luanda</td>\n",
       "      <td>-8.838</td>\n",
       "      <td>13.234</td>\n",
       "      <td>cereals and tubers</td>\n",
       "      <td>Rice (regular, milled)</td>\n",
       "      <td>900 G</td>\n",
       "      <td>actual</td>\n",
       "      <td>Retail</td>\n",
       "      <td>AOA</td>\n",
       "      <td>132.03</td>\n",
       "      <td>1.7637</td>\n",
       "      <td>2008</td>\n",
       "    </tr>\n",
       "    <tr>\n",
       "      <th>34</th>\n",
       "      <td>2008-05-15</td>\n",
       "      <td>Luanda</td>\n",
       "      <td>Luanda</td>\n",
       "      <td>Luanda</td>\n",
       "      <td>-8.838</td>\n",
       "      <td>13.234</td>\n",
       "      <td>cereals and tubers</td>\n",
       "      <td>Rice (regular, milled)</td>\n",
       "      <td>900 G</td>\n",
       "      <td>actual</td>\n",
       "      <td>Retail</td>\n",
       "      <td>AOA</td>\n",
       "      <td>134.45</td>\n",
       "      <td>1.7972</td>\n",
       "      <td>2008</td>\n",
       "    </tr>\n",
       "  </tbody>\n",
       "</table>\n",
       "</div>"
      ],
      "text/plain": [
       "         date  admin1  admin2  market  latitude  longitude  \\\n",
       "4  2008-01-15  Luanda  Luanda  Luanda    -8.838     13.234   \n",
       "12 2008-02-15  Luanda  Luanda  Luanda    -8.838     13.234   \n",
       "19 2008-03-15  Luanda  Luanda  Luanda    -8.838     13.234   \n",
       "26 2008-04-15  Luanda  Luanda  Luanda    -8.838     13.234   \n",
       "34 2008-05-15  Luanda  Luanda  Luanda    -8.838     13.234   \n",
       "\n",
       "              category               commodity   unit priceflag pricetype  \\\n",
       "4   cereals and tubers  Rice (regular, milled)  900 G    actual    Retail   \n",
       "12  cereals and tubers  Rice (regular, milled)  900 G    actual    Retail   \n",
       "19  cereals and tubers  Rice (regular, milled)  900 G    actual    Retail   \n",
       "26  cereals and tubers  Rice (regular, milled)  900 G    actual    Retail   \n",
       "34  cereals and tubers  Rice (regular, milled)  900 G    actual    Retail   \n",
       "\n",
       "   currency   price  usdprice  year  \n",
       "4       AOA  125.46    1.6762  2008  \n",
       "12      AOA  129.75    1.7332  2008  \n",
       "19      AOA  130.72    1.7418  2008  \n",
       "26      AOA  132.03    1.7637  2008  \n",
       "34      AOA  134.45    1.7972  2008  "
      ]
     },
     "execution_count": 631,
     "metadata": {},
     "output_type": "execute_result"
    }
   ],
   "source": [
    "Arroz= df1[df1['commodity'] == 'Rice (regular, milled)'].copy()\n",
    "Arroz['year'] = Arroz['date'].dt.year\n",
    "Arroz.head()"
   ]
  },
  {
   "cell_type": "code",
   "execution_count": 633,
   "id": "beb293f9-af1e-494d-9bcd-41ceb7d79a83",
   "metadata": {},
   "outputs": [
    {
     "data": {
      "text/plain": [
       "Text(0, 0.5, 'price')"
      ]
     },
     "execution_count": 633,
     "metadata": {},
     "output_type": "execute_result"
    },
    {
     "data": {
      "image/png": "[encoded data removed]",
      "text/plain": [
       "<Figure size 1000x600 with 1 Axes>"
      ]
     },
     "metadata": {},
     "output_type": "display_data"
    }
   ],
   "source": [
    "Arroz= Arroz.groupby('year')['price'].mean()\n",
    "Arroz.plot.bar(figsize=(10, 6), color='green', edgecolor='black')\n",
    "plt.title('SUBIDA DO PREÇO DO ARROZ')\n",
    "plt.xlabel('date')\n",
    "plt.ylabel('price')"
   ]
  },
  {
   "cell_type": "code",
   "execution_count": null,
   "id": "4cc4a277-8fa2-42c5-8d80-9926c081ce20",
   "metadata": {},
   "outputs": [],
   "source": []
  },
  {
   "cell_type": "code",
   "execution_count": 514,
   "id": "1b3e8722-2173-4e06-b667-9a4ff2b9e4c0",
   "metadata": {},
   "outputs": [
    {
     "name": "stdout",
     "output_type": "stream",
     "text": [
      "218.60590554458972 %\n"
     ]
    }
   ],
   "source": [
    "percear= Arroz.pct_change()*100\n",
    "percarro=percear.sum()\n",
    "print (percarro,\"%\")"
   ]
  },
  {
   "cell_type": "code",
   "execution_count": 635,
   "id": "9c11845a-ef82-4079-8e8a-01cfc6dc7af5",
   "metadata": {},
   "outputs": [
    {
     "data": {
      "text/html": [
       "<div>\n",
       "<style scoped>\n",
       "    .dataframe tbody tr th:only-of-type {\n",
       "        vertical-align: middle;\n",
       "    }\n",
       "\n",
       "    .dataframe tbody tr th {\n",
       "        vertical-align: top;\n",
       "    }\n",
       "\n",
       "    .dataframe thead th {\n",
       "        text-align: right;\n",
       "    }\n",
       "</style>\n",
       "<table border=\"1\" class=\"dataframe\">\n",
       "  <thead>\n",
       "    <tr style=\"text-align: right;\">\n",
       "      <th></th>\n",
       "      <th>date</th>\n",
       "      <th>admin1</th>\n",
       "      <th>admin2</th>\n",
       "      <th>market</th>\n",
       "      <th>latitude</th>\n",
       "      <th>longitude</th>\n",
       "      <th>category</th>\n",
       "      <th>commodity</th>\n",
       "      <th>unit</th>\n",
       "      <th>priceflag</th>\n",
       "      <th>pricetype</th>\n",
       "      <th>currency</th>\n",
       "      <th>price</th>\n",
       "      <th>usdprice</th>\n",
       "      <th>year</th>\n",
       "    </tr>\n",
       "  </thead>\n",
       "  <tbody>\n",
       "    <tr>\n",
       "      <th>5</th>\n",
       "      <td>2008-01-15</td>\n",
       "      <td>Luanda</td>\n",
       "      <td>Luanda</td>\n",
       "      <td>Luanda</td>\n",
       "      <td>-8.838</td>\n",
       "      <td>13.234</td>\n",
       "      <td>milk and dairy</td>\n",
       "      <td>Milk (powder)</td>\n",
       "      <td>50 Pounds</td>\n",
       "      <td>actual</td>\n",
       "      <td>Retail</td>\n",
       "      <td>AOA</td>\n",
       "      <td>1843.20</td>\n",
       "      <td>24.6253</td>\n",
       "      <td>2008</td>\n",
       "    </tr>\n",
       "    <tr>\n",
       "      <th>13</th>\n",
       "      <td>2008-02-15</td>\n",
       "      <td>Luanda</td>\n",
       "      <td>Luanda</td>\n",
       "      <td>Luanda</td>\n",
       "      <td>-8.838</td>\n",
       "      <td>13.234</td>\n",
       "      <td>milk and dairy</td>\n",
       "      <td>Milk (powder)</td>\n",
       "      <td>50 Pounds</td>\n",
       "      <td>actual</td>\n",
       "      <td>Retail</td>\n",
       "      <td>AOA</td>\n",
       "      <td>1893.10</td>\n",
       "      <td>25.2885</td>\n",
       "      <td>2008</td>\n",
       "    </tr>\n",
       "    <tr>\n",
       "      <th>20</th>\n",
       "      <td>2008-03-15</td>\n",
       "      <td>Luanda</td>\n",
       "      <td>Luanda</td>\n",
       "      <td>Luanda</td>\n",
       "      <td>-8.838</td>\n",
       "      <td>13.234</td>\n",
       "      <td>milk and dairy</td>\n",
       "      <td>Milk (powder)</td>\n",
       "      <td>50 Pounds</td>\n",
       "      <td>actual</td>\n",
       "      <td>Retail</td>\n",
       "      <td>AOA</td>\n",
       "      <td>1904.48</td>\n",
       "      <td>25.3761</td>\n",
       "      <td>2008</td>\n",
       "    </tr>\n",
       "    <tr>\n",
       "      <th>27</th>\n",
       "      <td>2008-04-15</td>\n",
       "      <td>Luanda</td>\n",
       "      <td>Luanda</td>\n",
       "      <td>Luanda</td>\n",
       "      <td>-8.838</td>\n",
       "      <td>13.234</td>\n",
       "      <td>milk and dairy</td>\n",
       "      <td>Milk (powder)</td>\n",
       "      <td>50 Pounds</td>\n",
       "      <td>actual</td>\n",
       "      <td>Retail</td>\n",
       "      <td>AOA</td>\n",
       "      <td>1916.83</td>\n",
       "      <td>25.6055</td>\n",
       "      <td>2008</td>\n",
       "    </tr>\n",
       "    <tr>\n",
       "      <th>35</th>\n",
       "      <td>2008-05-15</td>\n",
       "      <td>Luanda</td>\n",
       "      <td>Luanda</td>\n",
       "      <td>Luanda</td>\n",
       "      <td>-8.838</td>\n",
       "      <td>13.234</td>\n",
       "      <td>milk and dairy</td>\n",
       "      <td>Milk (powder)</td>\n",
       "      <td>50 Pounds</td>\n",
       "      <td>actual</td>\n",
       "      <td>Retail</td>\n",
       "      <td>AOA</td>\n",
       "      <td>2000.71</td>\n",
       "      <td>26.7439</td>\n",
       "      <td>2008</td>\n",
       "    </tr>\n",
       "  </tbody>\n",
       "</table>\n",
       "</div>"
      ],
      "text/plain": [
       "         date  admin1  admin2  market  latitude  longitude        category  \\\n",
       "5  2008-01-15  Luanda  Luanda  Luanda    -8.838     13.234  milk and dairy   \n",
       "13 2008-02-15  Luanda  Luanda  Luanda    -8.838     13.234  milk and dairy   \n",
       "20 2008-03-15  Luanda  Luanda  Luanda    -8.838     13.234  milk and dairy   \n",
       "27 2008-04-15  Luanda  Luanda  Luanda    -8.838     13.234  milk and dairy   \n",
       "35 2008-05-15  Luanda  Luanda  Luanda    -8.838     13.234  milk and dairy   \n",
       "\n",
       "        commodity       unit priceflag pricetype currency    price  usdprice  \\\n",
       "5   Milk (powder)  50 Pounds    actual    Retail      AOA  1843.20   24.6253   \n",
       "13  Milk (powder)  50 Pounds    actual    Retail      AOA  1893.10   25.2885   \n",
       "20  Milk (powder)  50 Pounds    actual    Retail      AOA  1904.48   25.3761   \n",
       "27  Milk (powder)  50 Pounds    actual    Retail      AOA  1916.83   25.6055   \n",
       "35  Milk (powder)  50 Pounds    actual    Retail      AOA  2000.71   26.7439   \n",
       "\n",
       "    year  \n",
       "5   2008  \n",
       "13  2008  \n",
       "20  2008  \n",
       "27  2008  \n",
       "35  2008  "
      ]
     },
     "execution_count": 635,
     "metadata": {},
     "output_type": "execute_result"
    }
   ],
   "source": [
    "Leite= df1[df1['commodity'] == 'Milk (powder)'].copy()\n",
    "Leite['year'] = Leite['date'].dt.year\n",
    "Leite.head()"
   ]
  },
  {
   "cell_type": "code",
   "execution_count": 637,
   "id": "1ecea5f4-cbab-4eb7-8052-df45c4da3479",
   "metadata": {},
   "outputs": [
    {
     "data": {
      "text/plain": [
       "Text(0, 0.5, 'price')"
      ]
     },
     "execution_count": 637,
     "metadata": {},
     "output_type": "execute_result"
    },
    {
     "data": {
      "image/png": "[encoded data removed]",
      "text/plain": [
       "<Figure size 1000x600 with 1 Axes>"
      ]
     },
     "metadata": {},
     "output_type": "display_data"
    }
   ],
   "source": [
    "Leite= Leite.groupby('year')['price'].mean()\n",
    "Leite.plot.bar(figsize=(10, 6), color='green', edgecolor='black')\n",
    "plt.title('SUBIDA DO PREÇO DO LEITE EM PÓ')\n",
    "plt.xlabel('date')\n",
    "plt.ylabel('price')"
   ]
  },
  {
   "cell_type": "code",
   "execution_count": 522,
   "id": "19a5f3ef-83a1-42f2-880b-9ecf7540ff56",
   "metadata": {},
   "outputs": [
    {
     "name": "stdout",
     "output_type": "stream",
     "text": [
      "198.3577721796184 %\n"
     ]
    }
   ],
   "source": [
    "percle= Leite.pct_change() * 100\n",
    "percleit=percle.sum()\n",
    "print (percleit,\"%\")"
   ]
  },
  {
   "cell_type": "code",
   "execution_count": 639,
   "id": "682701e7-9abe-43eb-839c-4ce59e1e589e",
   "metadata": {},
   "outputs": [
    {
     "data": {
      "text/html": [
       "<div>\n",
       "<style scoped>\n",
       "    .dataframe tbody tr th:only-of-type {\n",
       "        vertical-align: middle;\n",
       "    }\n",
       "\n",
       "    .dataframe tbody tr th {\n",
       "        vertical-align: top;\n",
       "    }\n",
       "\n",
       "    .dataframe thead th {\n",
       "        text-align: right;\n",
       "    }\n",
       "</style>\n",
       "<table border=\"1\" class=\"dataframe\">\n",
       "  <thead>\n",
       "    <tr style=\"text-align: right;\">\n",
       "      <th></th>\n",
       "      <th>date</th>\n",
       "      <th>admin1</th>\n",
       "      <th>admin2</th>\n",
       "      <th>market</th>\n",
       "      <th>latitude</th>\n",
       "      <th>longitude</th>\n",
       "      <th>category</th>\n",
       "      <th>commodity</th>\n",
       "      <th>unit</th>\n",
       "      <th>priceflag</th>\n",
       "      <th>pricetype</th>\n",
       "      <th>currency</th>\n",
       "      <th>price</th>\n",
       "      <th>usdprice</th>\n",
       "      <th>year</th>\n",
       "    </tr>\n",
       "  </thead>\n",
       "  <tbody>\n",
       "    <tr>\n",
       "      <th>7</th>\n",
       "      <td>2008-01-15</td>\n",
       "      <td>Luanda</td>\n",
       "      <td>Luanda</td>\n",
       "      <td>Luanda</td>\n",
       "      <td>-8.838</td>\n",
       "      <td>13.234</td>\n",
       "      <td>oil and fats</td>\n",
       "      <td>Oil (palm)</td>\n",
       "      <td>L</td>\n",
       "      <td>actual</td>\n",
       "      <td>Retail</td>\n",
       "      <td>AOA</td>\n",
       "      <td>382.84</td>\n",
       "      <td>5.1148</td>\n",
       "      <td>2008</td>\n",
       "    </tr>\n",
       "    <tr>\n",
       "      <th>15</th>\n",
       "      <td>2008-02-15</td>\n",
       "      <td>Luanda</td>\n",
       "      <td>Luanda</td>\n",
       "      <td>Luanda</td>\n",
       "      <td>-8.838</td>\n",
       "      <td>13.234</td>\n",
       "      <td>oil and fats</td>\n",
       "      <td>Oil (palm)</td>\n",
       "      <td>L</td>\n",
       "      <td>actual</td>\n",
       "      <td>Retail</td>\n",
       "      <td>AOA</td>\n",
       "      <td>383.97</td>\n",
       "      <td>5.1292</td>\n",
       "      <td>2008</td>\n",
       "    </tr>\n",
       "    <tr>\n",
       "      <th>22</th>\n",
       "      <td>2008-03-15</td>\n",
       "      <td>Luanda</td>\n",
       "      <td>Luanda</td>\n",
       "      <td>Luanda</td>\n",
       "      <td>-8.838</td>\n",
       "      <td>13.234</td>\n",
       "      <td>oil and fats</td>\n",
       "      <td>Oil (palm)</td>\n",
       "      <td>L</td>\n",
       "      <td>actual</td>\n",
       "      <td>Retail</td>\n",
       "      <td>AOA</td>\n",
       "      <td>385.10</td>\n",
       "      <td>5.1312</td>\n",
       "      <td>2008</td>\n",
       "    </tr>\n",
       "    <tr>\n",
       "      <th>29</th>\n",
       "      <td>2008-04-15</td>\n",
       "      <td>Luanda</td>\n",
       "      <td>Luanda</td>\n",
       "      <td>Luanda</td>\n",
       "      <td>-8.838</td>\n",
       "      <td>13.234</td>\n",
       "      <td>oil and fats</td>\n",
       "      <td>Oil (palm)</td>\n",
       "      <td>L</td>\n",
       "      <td>actual</td>\n",
       "      <td>Retail</td>\n",
       "      <td>AOA</td>\n",
       "      <td>386.48</td>\n",
       "      <td>5.1627</td>\n",
       "      <td>2008</td>\n",
       "    </tr>\n",
       "    <tr>\n",
       "      <th>36</th>\n",
       "      <td>2008-05-15</td>\n",
       "      <td>Luanda</td>\n",
       "      <td>Luanda</td>\n",
       "      <td>Luanda</td>\n",
       "      <td>-8.838</td>\n",
       "      <td>13.234</td>\n",
       "      <td>oil and fats</td>\n",
       "      <td>Oil (palm)</td>\n",
       "      <td>L</td>\n",
       "      <td>actual</td>\n",
       "      <td>Retail</td>\n",
       "      <td>AOA</td>\n",
       "      <td>388.80</td>\n",
       "      <td>5.1972</td>\n",
       "      <td>2008</td>\n",
       "    </tr>\n",
       "  </tbody>\n",
       "</table>\n",
       "</div>"
      ],
      "text/plain": [
       "         date  admin1  admin2  market  latitude  longitude      category  \\\n",
       "7  2008-01-15  Luanda  Luanda  Luanda    -8.838     13.234  oil and fats   \n",
       "15 2008-02-15  Luanda  Luanda  Luanda    -8.838     13.234  oil and fats   \n",
       "22 2008-03-15  Luanda  Luanda  Luanda    -8.838     13.234  oil and fats   \n",
       "29 2008-04-15  Luanda  Luanda  Luanda    -8.838     13.234  oil and fats   \n",
       "36 2008-05-15  Luanda  Luanda  Luanda    -8.838     13.234  oil and fats   \n",
       "\n",
       "     commodity unit priceflag pricetype currency   price  usdprice  year  \n",
       "7   Oil (palm)    L    actual    Retail      AOA  382.84    5.1148  2008  \n",
       "15  Oil (palm)    L    actual    Retail      AOA  383.97    5.1292  2008  \n",
       "22  Oil (palm)    L    actual    Retail      AOA  385.10    5.1312  2008  \n",
       "29  Oil (palm)    L    actual    Retail      AOA  386.48    5.1627  2008  \n",
       "36  Oil (palm)    L    actual    Retail      AOA  388.80    5.1972  2008  "
      ]
     },
     "execution_count": 639,
     "metadata": {},
     "output_type": "execute_result"
    }
   ],
   "source": [
    "Oil= df1[df1['commodity'] == 'Oil (palm)'].copy()\n",
    "Oil['year'] = Oil['date'].dt.year\n",
    "Oil.head()"
   ]
  },
  {
   "cell_type": "code",
   "execution_count": 641,
   "id": "45e1994b-ffc2-4957-b2ec-c578a5d9dd1f",
   "metadata": {},
   "outputs": [
    {
     "data": {
      "text/plain": [
       "Text(0, 0.5, 'price')"
      ]
     },
     "execution_count": 641,
     "metadata": {},
     "output_type": "execute_result"
    },
    {
     "data": {
      "image/png": "[encoded data removed]",
      "text/plain": [
       "<Figure size 1000x600 with 1 Axes>"
      ]
     },
     "metadata": {},
     "output_type": "display_data"
    }
   ],
   "source": [
    "Oil1= Oil.groupby('year')['price'].mean()\n",
    "Oil1.plot.bar(figsize=(10, 6), color='green', edgecolor='black')\n",
    "plt.title('SUBIDA DO PREÇO DO OLÉO DE PALMA')\n",
    "plt.xlabel('date')\n",
    "plt.ylabel('price')"
   ]
  },
  {
   "cell_type": "code",
   "execution_count": 538,
   "id": "dd898c93-da7a-4cde-8172-609fa066d48a",
   "metadata": {},
   "outputs": [
    {
     "name": "stdout",
     "output_type": "stream",
     "text": [
      "204.8333965566938 %\n"
     ]
    }
   ],
   "source": [
    "percpa= Oil1.pct_change() * 100\n",
    "percpalma=percpa.sum()\n",
    "print (percpalma,\"%\")"
   ]
  },
  {
   "cell_type": "code",
   "execution_count": 643,
   "id": "b50793ec-2454-4fbc-9ecb-ebdf299579c2",
   "metadata": {},
   "outputs": [
    {
     "data": {
      "text/html": [
       "<div>\n",
       "<style scoped>\n",
       "    .dataframe tbody tr th:only-of-type {\n",
       "        vertical-align: middle;\n",
       "    }\n",
       "\n",
       "    .dataframe tbody tr th {\n",
       "        vertical-align: top;\n",
       "    }\n",
       "\n",
       "    .dataframe thead th {\n",
       "        text-align: right;\n",
       "    }\n",
       "</style>\n",
       "<table border=\"1\" class=\"dataframe\">\n",
       "  <thead>\n",
       "    <tr style=\"text-align: right;\">\n",
       "      <th></th>\n",
       "      <th>date</th>\n",
       "      <th>admin1</th>\n",
       "      <th>admin2</th>\n",
       "      <th>market</th>\n",
       "      <th>latitude</th>\n",
       "      <th>longitude</th>\n",
       "      <th>category</th>\n",
       "      <th>commodity</th>\n",
       "      <th>unit</th>\n",
       "      <th>priceflag</th>\n",
       "      <th>pricetype</th>\n",
       "      <th>currency</th>\n",
       "      <th>price</th>\n",
       "      <th>usdprice</th>\n",
       "      <th>year</th>\n",
       "    </tr>\n",
       "  </thead>\n",
       "  <tbody>\n",
       "    <tr>\n",
       "      <th>6</th>\n",
       "      <td>2008-01-15</td>\n",
       "      <td>Luanda</td>\n",
       "      <td>Luanda</td>\n",
       "      <td>Luanda</td>\n",
       "      <td>-8.838</td>\n",
       "      <td>13.234</td>\n",
       "      <td>miscellaneous food</td>\n",
       "      <td>Sugar (white)</td>\n",
       "      <td>900 G</td>\n",
       "      <td>actual</td>\n",
       "      <td>Retail</td>\n",
       "      <td>AOA</td>\n",
       "      <td>117.42</td>\n",
       "      <td>1.5687</td>\n",
       "      <td>2008</td>\n",
       "    </tr>\n",
       "    <tr>\n",
       "      <th>14</th>\n",
       "      <td>2008-02-15</td>\n",
       "      <td>Luanda</td>\n",
       "      <td>Luanda</td>\n",
       "      <td>Luanda</td>\n",
       "      <td>-8.838</td>\n",
       "      <td>13.234</td>\n",
       "      <td>miscellaneous food</td>\n",
       "      <td>Sugar (white)</td>\n",
       "      <td>900 G</td>\n",
       "      <td>actual</td>\n",
       "      <td>Retail</td>\n",
       "      <td>AOA</td>\n",
       "      <td>119.60</td>\n",
       "      <td>1.5976</td>\n",
       "      <td>2008</td>\n",
       "    </tr>\n",
       "    <tr>\n",
       "      <th>21</th>\n",
       "      <td>2008-03-15</td>\n",
       "      <td>Luanda</td>\n",
       "      <td>Luanda</td>\n",
       "      <td>Luanda</td>\n",
       "      <td>-8.838</td>\n",
       "      <td>13.234</td>\n",
       "      <td>miscellaneous food</td>\n",
       "      <td>Sugar (white)</td>\n",
       "      <td>900 G</td>\n",
       "      <td>actual</td>\n",
       "      <td>Retail</td>\n",
       "      <td>AOA</td>\n",
       "      <td>120.09</td>\n",
       "      <td>1.6001</td>\n",
       "      <td>2008</td>\n",
       "    </tr>\n",
       "    <tr>\n",
       "      <th>28</th>\n",
       "      <td>2008-04-15</td>\n",
       "      <td>Luanda</td>\n",
       "      <td>Luanda</td>\n",
       "      <td>Luanda</td>\n",
       "      <td>-8.838</td>\n",
       "      <td>13.234</td>\n",
       "      <td>miscellaneous food</td>\n",
       "      <td>Sugar (white)</td>\n",
       "      <td>900 G</td>\n",
       "      <td>actual</td>\n",
       "      <td>Retail</td>\n",
       "      <td>AOA</td>\n",
       "      <td>121.07</td>\n",
       "      <td>1.6173</td>\n",
       "      <td>2008</td>\n",
       "    </tr>\n",
       "    <tr>\n",
       "      <th>61</th>\n",
       "      <td>2008-09-15</td>\n",
       "      <td>Luanda</td>\n",
       "      <td>Luanda</td>\n",
       "      <td>Luanda</td>\n",
       "      <td>-8.838</td>\n",
       "      <td>13.234</td>\n",
       "      <td>miscellaneous food</td>\n",
       "      <td>Sugar (white)</td>\n",
       "      <td>900 G</td>\n",
       "      <td>actual</td>\n",
       "      <td>Retail</td>\n",
       "      <td>AOA</td>\n",
       "      <td>130.30</td>\n",
       "      <td>1.7410</td>\n",
       "      <td>2008</td>\n",
       "    </tr>\n",
       "  </tbody>\n",
       "</table>\n",
       "</div>"
      ],
      "text/plain": [
       "         date  admin1  admin2  market  latitude  longitude  \\\n",
       "6  2008-01-15  Luanda  Luanda  Luanda    -8.838     13.234   \n",
       "14 2008-02-15  Luanda  Luanda  Luanda    -8.838     13.234   \n",
       "21 2008-03-15  Luanda  Luanda  Luanda    -8.838     13.234   \n",
       "28 2008-04-15  Luanda  Luanda  Luanda    -8.838     13.234   \n",
       "61 2008-09-15  Luanda  Luanda  Luanda    -8.838     13.234   \n",
       "\n",
       "              category      commodity   unit priceflag pricetype currency  \\\n",
       "6   miscellaneous food  Sugar (white)  900 G    actual    Retail      AOA   \n",
       "14  miscellaneous food  Sugar (white)  900 G    actual    Retail      AOA   \n",
       "21  miscellaneous food  Sugar (white)  900 G    actual    Retail      AOA   \n",
       "28  miscellaneous food  Sugar (white)  900 G    actual    Retail      AOA   \n",
       "61  miscellaneous food  Sugar (white)  900 G    actual    Retail      AOA   \n",
       "\n",
       "     price  usdprice  year  \n",
       "6   117.42    1.5687  2008  \n",
       "14  119.60    1.5976  2008  \n",
       "21  120.09    1.6001  2008  \n",
       "28  121.07    1.6173  2008  \n",
       "61  130.30    1.7410  2008  "
      ]
     },
     "execution_count": 643,
     "metadata": {},
     "output_type": "execute_result"
    }
   ],
   "source": [
    "Acucar= df1[df1['commodity'] == 'Sugar (white)'].copy()\n",
    "Acucar['year'] = Acucar['date'].dt.year\n",
    "Acucar.head()"
   ]
  },
  {
   "cell_type": "code",
   "execution_count": 645,
   "id": "17c6682c-98c3-4a66-b325-272f1a6df81d",
   "metadata": {},
   "outputs": [
    {
     "data": {
      "text/plain": [
       "Text(0, 0.5, 'price')"
      ]
     },
     "execution_count": 645,
     "metadata": {},
     "output_type": "execute_result"
    },
    {
     "data": {
      "image/png": "[encoded data removed]",
      "text/plain": [
       "<Figure size 1000x600 with 1 Axes>"
      ]
     },
     "metadata": {},
     "output_type": "display_data"
    }
   ],
   "source": [
    "Acucar1= Acucar.groupby('year')['price'].mean()\n",
    "Acucar1.plot.bar(figsize=(10, 6), color='green', edgecolor='black')\n",
    "plt.title('SUBIDA DO PREÇO DO AÇUCAR')\n",
    "plt.xlabel('date')\n",
    "plt.ylabel('price')"
   ]
  },
  {
   "cell_type": "code",
   "execution_count": null,
   "id": "feb98baf-e5ac-4952-bd27-3407de86de42",
   "metadata": {},
   "outputs": [],
   "source": []
  },
  {
   "cell_type": "code",
   "execution_count": 547,
   "id": "01254572-114f-42e0-90fc-e7b7e81c038b",
   "metadata": {},
   "outputs": [
    {
     "name": "stdout",
     "output_type": "stream",
     "text": [
      "289.6632081186737 %\n"
     ]
    }
   ],
   "source": [
    "perceac= Acucar1.pct_change() * 100\n",
    "percacu=perceac.sum()\n",
    "print (percacu,\"%\")"
   ]
  },
  {
   "cell_type": "code",
   "execution_count": null,
   "id": "8e408061-2ae1-49f0-9a43-899eb30c631e",
   "metadata": {},
   "outputs": [],
   "source": []
  },
  {
   "cell_type": "code",
   "execution_count": 647,
   "id": "8bbdb5a5-ae29-4ce9-adf5-2caf3e33f002",
   "metadata": {},
   "outputs": [
    {
     "data": {
      "text/html": [
       "<div>\n",
       "<style scoped>\n",
       "    .dataframe tbody tr th:only-of-type {\n",
       "        vertical-align: middle;\n",
       "    }\n",
       "\n",
       "    .dataframe tbody tr th {\n",
       "        vertical-align: top;\n",
       "    }\n",
       "\n",
       "    .dataframe thead th {\n",
       "        text-align: right;\n",
       "    }\n",
       "</style>\n",
       "<table border=\"1\" class=\"dataframe\">\n",
       "  <thead>\n",
       "    <tr style=\"text-align: right;\">\n",
       "      <th></th>\n",
       "      <th>date</th>\n",
       "      <th>admin1</th>\n",
       "      <th>admin2</th>\n",
       "      <th>market</th>\n",
       "      <th>latitude</th>\n",
       "      <th>longitude</th>\n",
       "      <th>category</th>\n",
       "      <th>commodity</th>\n",
       "      <th>unit</th>\n",
       "      <th>priceflag</th>\n",
       "      <th>pricetype</th>\n",
       "      <th>currency</th>\n",
       "      <th>price</th>\n",
       "      <th>usdprice</th>\n",
       "      <th>year</th>\n",
       "    </tr>\n",
       "  </thead>\n",
       "  <tbody>\n",
       "    <tr>\n",
       "      <th>8</th>\n",
       "      <td>2008-01-15</td>\n",
       "      <td>Luanda</td>\n",
       "      <td>Luanda</td>\n",
       "      <td>Luanda</td>\n",
       "      <td>-8.838</td>\n",
       "      <td>13.234</td>\n",
       "      <td>oil and fats</td>\n",
       "      <td>Oil (soybean)</td>\n",
       "      <td>L</td>\n",
       "      <td>actual</td>\n",
       "      <td>Retail</td>\n",
       "      <td>AOA</td>\n",
       "      <td>225.43</td>\n",
       "      <td>3.0118</td>\n",
       "      <td>2008</td>\n",
       "    </tr>\n",
       "    <tr>\n",
       "      <th>30</th>\n",
       "      <td>2008-04-15</td>\n",
       "      <td>Luanda</td>\n",
       "      <td>Luanda</td>\n",
       "      <td>Luanda</td>\n",
       "      <td>-8.838</td>\n",
       "      <td>13.234</td>\n",
       "      <td>oil and fats</td>\n",
       "      <td>Oil (soybean)</td>\n",
       "      <td>L</td>\n",
       "      <td>actual</td>\n",
       "      <td>Retail</td>\n",
       "      <td>AOA</td>\n",
       "      <td>231.07</td>\n",
       "      <td>3.0867</td>\n",
       "      <td>2008</td>\n",
       "    </tr>\n",
       "    <tr>\n",
       "      <th>55</th>\n",
       "      <td>2008-08-15</td>\n",
       "      <td>Luanda</td>\n",
       "      <td>Luanda</td>\n",
       "      <td>Luanda</td>\n",
       "      <td>-8.838</td>\n",
       "      <td>13.234</td>\n",
       "      <td>oil and fats</td>\n",
       "      <td>Oil (soybean)</td>\n",
       "      <td>L</td>\n",
       "      <td>actual</td>\n",
       "      <td>Retail</td>\n",
       "      <td>AOA</td>\n",
       "      <td>237.54</td>\n",
       "      <td>3.1672</td>\n",
       "      <td>2008</td>\n",
       "    </tr>\n",
       "    <tr>\n",
       "      <th>63</th>\n",
       "      <td>2008-09-15</td>\n",
       "      <td>Luanda</td>\n",
       "      <td>Luanda</td>\n",
       "      <td>Luanda</td>\n",
       "      <td>-8.838</td>\n",
       "      <td>13.234</td>\n",
       "      <td>oil and fats</td>\n",
       "      <td>Oil (soybean)</td>\n",
       "      <td>L</td>\n",
       "      <td>actual</td>\n",
       "      <td>Retail</td>\n",
       "      <td>AOA</td>\n",
       "      <td>237.54</td>\n",
       "      <td>3.1740</td>\n",
       "      <td>2008</td>\n",
       "    </tr>\n",
       "    <tr>\n",
       "      <th>70</th>\n",
       "      <td>2008-10-15</td>\n",
       "      <td>Luanda</td>\n",
       "      <td>Luanda</td>\n",
       "      <td>Luanda</td>\n",
       "      <td>-8.838</td>\n",
       "      <td>13.234</td>\n",
       "      <td>oil and fats</td>\n",
       "      <td>Oil (soybean)</td>\n",
       "      <td>L</td>\n",
       "      <td>actual</td>\n",
       "      <td>Retail</td>\n",
       "      <td>AOA</td>\n",
       "      <td>237.29</td>\n",
       "      <td>3.1830</td>\n",
       "      <td>2008</td>\n",
       "    </tr>\n",
       "  </tbody>\n",
       "</table>\n",
       "</div>"
      ],
      "text/plain": [
       "         date  admin1  admin2  market  latitude  longitude      category  \\\n",
       "8  2008-01-15  Luanda  Luanda  Luanda    -8.838     13.234  oil and fats   \n",
       "30 2008-04-15  Luanda  Luanda  Luanda    -8.838     13.234  oil and fats   \n",
       "55 2008-08-15  Luanda  Luanda  Luanda    -8.838     13.234  oil and fats   \n",
       "63 2008-09-15  Luanda  Luanda  Luanda    -8.838     13.234  oil and fats   \n",
       "70 2008-10-15  Luanda  Luanda  Luanda    -8.838     13.234  oil and fats   \n",
       "\n",
       "        commodity unit priceflag pricetype currency   price  usdprice  year  \n",
       "8   Oil (soybean)    L    actual    Retail      AOA  225.43    3.0118  2008  \n",
       "30  Oil (soybean)    L    actual    Retail      AOA  231.07    3.0867  2008  \n",
       "55  Oil (soybean)    L    actual    Retail      AOA  237.54    3.1672  2008  \n",
       "63  Oil (soybean)    L    actual    Retail      AOA  237.54    3.1740  2008  \n",
       "70  Oil (soybean)    L    actual    Retail      AOA  237.29    3.1830  2008  "
      ]
     },
     "execution_count": 647,
     "metadata": {},
     "output_type": "execute_result"
    }
   ],
   "source": [
    "Oilc= df1[df1['commodity'] == 'Oil (soybean)'].copy()\n",
    "Oilc['year'] = Oilc['date'].dt.year\n",
    "Oilc.head()"
   ]
  },
  {
   "cell_type": "code",
   "execution_count": 649,
   "id": "2c68a39f-6a61-43de-b5a1-5f2355fe949a",
   "metadata": {},
   "outputs": [
    {
     "data": {
      "text/plain": [
       "Text(0, 0.5, 'price')"
      ]
     },
     "execution_count": 649,
     "metadata": {},
     "output_type": "execute_result"
    },
    {
     "data": {
      "image/png": "[encoded data removed]",
      "text/plain": [
       "<Figure size 1000x600 with 1 Axes>"
      ]
     },
     "metadata": {},
     "output_type": "display_data"
    }
   ],
   "source": [
    "Oilcoz= Oilc.groupby('year')['price'].mean()\n",
    "\n",
    "Oilcoz.plot.bar(figsize=(10, 6), color='green', edgecolor='black')\n",
    "plt.title(\"SUBIDA DO PREÇO DO OLÉO\")\n",
    "plt.xlabel('date')\n",
    "plt.ylabel('price')"
   ]
  },
  {
   "cell_type": "code",
   "execution_count": 551,
   "id": "7d03c76b-21fa-4410-a966-7cd06e4b0993",
   "metadata": {},
   "outputs": [
    {
     "name": "stdout",
     "output_type": "stream",
     "text": [
      "246.98173832041084 %\n"
     ]
    }
   ],
   "source": [
    "perceoil= Oilcoz.pct_change() * 100\n",
    "perceoleo=perceoil.sum()\n",
    "print (perceoleo,\"%\")"
   ]
  },
  {
   "cell_type": "markdown",
   "id": "a5748ae3-e3e5-4384-9596-a885b514ac69",
   "metadata": {},
   "source": [
    "<br>Cassava flour             170\n",
    "<br>Bread                     156\n",
    "<br>F               156\n",
    "<br>Rice (regular, milled)    156\n",
    "<br>Milk (powder)             156\n",
    "<br>Oil (palm)                156\n",
    "<br>Sugar (white)             102\n",
    "<br>Oil (soybean)              88\n",
    "\n"
   ]
  },
  {
   "cell_type": "code",
   "execution_count": 651,
   "id": "9b866315-3d94-40f6-9dde-16a065f6c33e",
   "metadata": {},
   "outputs": [
    {
     "data": {
      "text/html": [
       "<div>\n",
       "<style scoped>\n",
       "    .dataframe tbody tr th:only-of-type {\n",
       "        vertical-align: middle;\n",
       "    }\n",
       "\n",
       "    .dataframe tbody tr th {\n",
       "        vertical-align: top;\n",
       "    }\n",
       "\n",
       "    .dataframe thead th {\n",
       "        text-align: right;\n",
       "    }\n",
       "</style>\n",
       "<table border=\"1\" class=\"dataframe\">\n",
       "  <thead>\n",
       "    <tr style=\"text-align: right;\">\n",
       "      <th></th>\n",
       "      <th>Produto</th>\n",
       "      <th>Porcentagem</th>\n",
       "    </tr>\n",
       "  </thead>\n",
       "  <tbody>\n",
       "    <tr>\n",
       "      <th>0</th>\n",
       "      <td>Fuba de Mandioca</td>\n",
       "      <td>217.137637</td>\n",
       "    </tr>\n",
       "    <tr>\n",
       "      <th>1</th>\n",
       "      <td>Pão</td>\n",
       "      <td>122.436110</td>\n",
       "    </tr>\n",
       "    <tr>\n",
       "      <th>2</th>\n",
       "      <td>Fuba de Milho</td>\n",
       "      <td>189.781168</td>\n",
       "    </tr>\n",
       "    <tr>\n",
       "      <th>3</th>\n",
       "      <td>Arroz</td>\n",
       "      <td>218.605906</td>\n",
       "    </tr>\n",
       "    <tr>\n",
       "      <th>4</th>\n",
       "      <td>Leite em Pó</td>\n",
       "      <td>198.357772</td>\n",
       "    </tr>\n",
       "    <tr>\n",
       "      <th>5</th>\n",
       "      <td>Oleo de Palma</td>\n",
       "      <td>204.833397</td>\n",
       "    </tr>\n",
       "    <tr>\n",
       "      <th>6</th>\n",
       "      <td>Açucar</td>\n",
       "      <td>289.663208</td>\n",
       "    </tr>\n",
       "    <tr>\n",
       "      <th>7</th>\n",
       "      <td>Oleo</td>\n",
       "      <td>246.981738</td>\n",
       "    </tr>\n",
       "  </tbody>\n",
       "</table>\n",
       "</div>"
      ],
      "text/plain": [
       "            Produto  Porcentagem\n",
       "0  Fuba de Mandioca   217.137637\n",
       "1               Pão   122.436110\n",
       "2     Fuba de Milho   189.781168\n",
       "3             Arroz   218.605906\n",
       "4       Leite em Pó   198.357772\n",
       "5     Oleo de Palma   204.833397\n",
       "6            Açucar   289.663208\n",
       "7              Oleo   246.981738"
      ]
     },
     "execution_count": 651,
     "metadata": {},
     "output_type": "execute_result"
    }
   ],
   "source": [
    "cresc= {\n",
    "'Produto':['Fuba de Mandioca',  'Pão', 'Fuba de Milho', 'Arroz', 'Leite em Pó', 'Oleo de Palma','Açucar','Oleo'],\n",
    "'Porcentagem':[percfuba,percbread,percfmilh,percarro,percleit,percpalma,percacu,perceoleo]   \n",
    "}\n",
    "dfcre = pd.DataFrame(cresc)\n",
    "dfcre.head(10)"
   ]
  },
  {
   "cell_type": "code",
   "execution_count": 653,
   "id": "cc748716-9f6d-4155-9c81-04f1c59debe1",
   "metadata": {},
   "outputs": [
    {
     "data": {
      "text/plain": [
       "Text(0, 0.5, 'PORCENTAGEM')"
      ]
     },
     "execution_count": 653,
     "metadata": {},
     "output_type": "execute_result"
    },
    {
     "data": {
      "image/png": "[encoded data removed]",
      "text/plain": [
       "<Figure size 1000x600 with 1 Axes>"
      ]
     },
     "metadata": {},
     "output_type": "display_data"
    }
   ],
   "source": [
    "dfcre.plot.bar(x='Produto', y='Porcentagem', figsize=(10, 6), color='orange', edgecolor='black')\n",
    "plt.xlabel('PRODUTO')\n",
    "plt.ylabel('PORCENTAGEM')"
   ]
  },
  {
   "cell_type": "code",
   "execution_count": null,
   "id": "9b6bae04-d0d8-4003-9a12-93ef7d9cedd3",
   "metadata": {},
   "outputs": [],
   "source": []
  }
 ],
 "metadata": {
  "kernelspec": {
   "display_name": "Python [conda env:base] *",
   "language": "python",
   "name": "conda-base-py"
  },
  "language_info": {
   "codemirror_mode": {
    "name": "ipython",
    "version": 3
   },
   "file_extension": ".py",
   "mimetype": "text/x-python",
   "name": "python",
   "nbconvert_exporter": "python",
   "pygments_lexer": "ipython3",
   "version": "3.12.7"
  }
 },
 "nbformat": 4,
 "nbformat_minor": 5
}
